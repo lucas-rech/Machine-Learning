{
 "cells": [
  {
   "cell_type": "markdown",
   "id": "b8d0708d",
   "metadata": {},
   "source": [
    "Base Credit Data - 98%"
   ]
  },
  {
   "cell_type": "code",
   "execution_count": 2,
   "id": "0f8381f6",
   "metadata": {},
   "outputs": [],
   "source": [
    "import Orange"
   ]
  },
  {
   "cell_type": "markdown",
   "id": "fb54efcc",
   "metadata": {},
   "source": [
    "Pré-processamento"
   ]
  },
  {
   "cell_type": "code",
   "execution_count": 8,
   "id": "b2d99a8f",
   "metadata": {},
   "outputs": [],
   "source": [
    "base_credit = Orange.data.Table('../data/credit_data_regras.csv')"
   ]
  },
  {
   "cell_type": "code",
   "execution_count": 9,
   "id": "0963fe9a",
   "metadata": {},
   "outputs": [
    {
     "data": {
      "text/plain": [
       "[income, age, loan | default]"
      ]
     },
     "execution_count": 9,
     "metadata": {},
     "output_type": "execute_result"
    }
   ],
   "source": [
    "base_credit.domain"
   ]
  },
  {
   "cell_type": "code",
   "execution_count": 13,
   "id": "3289e280",
   "metadata": {},
   "outputs": [],
   "source": [
    "# Divide the dataset into two parts: 75% for training and 25% for testing\n",
    "divided_data = Orange.evaluation.testing.sample(base_credit, n = 0.25)"
   ]
  },
  {
   "cell_type": "code",
   "execution_count": 14,
   "id": "a35dea84",
   "metadata": {},
   "outputs": [
    {
     "data": {
      "text/plain": [
       "([[35276.6, 28.5721, 6820.32 | 1],\n",
       "  [48433.4, 28.532, 789.633 | 0],\n",
       "  [67125.6, 36.0585, 7482.07 | 0],\n",
       "  [61987.7, 27.6311, 2618.24 | 0],\n",
       "  [55568.2, 42.757, 6114.87 | 0],\n",
       "  ...\n",
       " ],\n",
       " [[66370.9, 63.1135, 5176.36 | 0],\n",
       "  [41674.2, 54.6583, 3203.2 | 0],\n",
       "  [24254.7, 37.7516, 2225.28 | 0],\n",
       "  [52102.6, 19.3725, 8799.82 | 1],\n",
       "  [28219, 42.6244, 1305.08 | 0],\n",
       "  ...\n",
       " ])"
      ]
     },
     "execution_count": 14,
     "metadata": {},
     "output_type": "execute_result"
    }
   ],
   "source": [
    "divided_data"
   ]
  },
  {
   "cell_type": "code",
   "execution_count": 16,
   "id": "c111db63",
   "metadata": {},
   "outputs": [],
   "source": [
    "train_data = divided_data[1]\n",
    "test_data = divided_data[0]"
   ]
  },
  {
   "cell_type": "code",
   "execution_count": 17,
   "id": "aee0aa44",
   "metadata": {},
   "outputs": [
    {
     "data": {
      "text/plain": [
       "(1500, 500)"
      ]
     },
     "execution_count": 17,
     "metadata": {},
     "output_type": "execute_result"
    }
   ],
   "source": [
    "len(train_data), len(test_data)"
   ]
  },
  {
   "cell_type": "markdown",
   "id": "adac7f76",
   "metadata": {},
   "source": [
    "Treinamento do modelo"
   ]
  },
  {
   "cell_type": "code",
   "execution_count": null,
   "id": "c7d10cf4",
   "metadata": {},
   "outputs": [],
   "source": [
    "# Cria um algoritmo de regras CN2 e aplica ao conjunto de dados de treinamento\n",
    "\n",
    "cn2 = Orange.classification.rules.CN2Learner()\n",
    "rules_credit = cn2(train_data)"
   ]
  },
  {
   "cell_type": "code",
   "execution_count": 20,
   "id": "2c5a0204",
   "metadata": {},
   "outputs": [
    {
     "name": "stdout",
     "output_type": "stream",
     "text": [
      "IF age>=34.9257164876908 THEN default=0 \n",
      "IF loan<=2495.13299137587 AND income>=20145.9885970689 THEN default=0 \n",
      "IF loan>=7660.34617051509 AND loan>=9698.582169129 THEN default=1 \n",
      "IF loan<=3665.88089899456 AND income>=29724.4768752716 THEN default=0 \n",
      "IF income<=47451.6301229596 AND loan>=5416.3577980789005 THEN default=1 \n",
      "IF loan>=7660.34617051509 AND loan>=9595.28628892989 THEN default=0 \n",
      "IF loan>=7660.34617051509 AND age>=20.9909665295854 THEN default=1 \n",
      "IF age>=34.915516287554105 THEN default=1 \n",
      "IF age>=34.5148812653497 THEN default=0 \n",
      "IF age>=34.4429727895185 THEN default=1 \n",
      "IF age>=34.058644853998 THEN default=0 \n",
      "IF loan>=7181.4785525792595 AND income>=66255.02952840179 THEN default=0 \n",
      "IF loan>=7181.4785525792595 THEN default=1 \n",
      "IF income>=57628.438917454296 THEN default=0 \n",
      "IF age>=33.656441235914805 THEN default=1 \n",
      "IF age>=33.403173910453894 THEN default=0 \n",
      "IF loan>=6536.96636294544 THEN default=1 \n",
      "IF income>=34722.9648311622 AND income>=50360.6787929311 THEN default=0 \n",
      "IF income>=34722.9648311622 AND age>=27.031741308979697 THEN default=0 \n",
      "IF income>=34722.9648311622 AND age>=27.0216773641296 THEN default=1 \n",
      "IF loan<=3052.5766906145695 AND income>=22089.8374845274 THEN default=0 \n",
      "IF loan<=3709.3044307035298 AND age>=21.6304703606293 THEN default=1 \n",
      "IF income<=34145.7995516248 AND loan>=4099.90204534619 THEN default=1 \n",
      "IF income<=34145.7995516248 AND age>=31.4007989270613 THEN default=0 \n",
      "IF age>=27.9972893036902 THEN default=1 \n",
      "IF loan>=6077.680286835239 THEN default=1 \n",
      "IF loan>=5722.58198121271 THEN default=0 \n",
      "IF age>=26.101500419899804 THEN default=1 \n",
      "IF age>=24.4183572856709 THEN default=0 \n",
      "IF income>=34722.9648311622 AND income>=40496.2558229454 THEN default=0 \n",
      "IF loan>=4625.19337762744 THEN default=1 \n",
      "IF income>=34722.9648311622 THEN default=0 \n",
      "IF income<=26218.4948474169 THEN default=1 \n",
      "IF income<=29366.582334041603 THEN default=1 \n",
      "IF income<=29761.046012863502 THEN default=1 \n",
      "IF TRUE THEN default=0 \n"
     ]
    }
   ],
   "source": [
    "for rules in rules_credit.rule_list:\n",
    "    print(rules)"
   ]
  },
  {
   "cell_type": "markdown",
   "id": "302635a9",
   "metadata": {},
   "source": [
    "Teste de previsões"
   ]
  },
  {
   "cell_type": "code",
   "execution_count": 26,
   "id": "02089e0a",
   "metadata": {},
   "outputs": [],
   "source": [
    "predictions = Orange.evaluation.testing.TestOnTestData(train_data, test_data, [lambda test_data: rules_credit])"
   ]
  },
  {
   "cell_type": "code",
   "execution_count": 27,
   "id": "44b9e3d6",
   "metadata": {},
   "outputs": [
    {
     "data": {
      "text/plain": [
       "<Orange.evaluation.testing.Results at 0x7d4012564f80>"
      ]
     },
     "execution_count": 27,
     "metadata": {},
     "output_type": "execute_result"
    }
   ],
   "source": [
    "predictions"
   ]
  },
  {
   "cell_type": "code",
   "execution_count": 28,
   "id": "e6701c1e",
   "metadata": {},
   "outputs": [
    {
     "data": {
      "text/plain": [
       "array([0.98])"
      ]
     },
     "execution_count": 28,
     "metadata": {},
     "output_type": "execute_result"
    }
   ],
   "source": [
    "Orange.evaluation.CA(predictions)"
   ]
  }
 ],
 "metadata": {
  "kernelspec": {
   "display_name": "base",
   "language": "python",
   "name": "python3"
  },
  "language_info": {
   "codemirror_mode": {
    "name": "ipython",
    "version": 3
   },
   "file_extension": ".py",
   "mimetype": "text/x-python",
   "name": "python",
   "nbconvert_exporter": "python",
   "pygments_lexer": "ipython3",
   "version": "3.12.7"
  }
 },
 "nbformat": 4,
 "nbformat_minor": 5
}
