{
 "cells": [
  {
   "cell_type": "code",
   "execution_count": 2,
   "id": "25341c17",
   "metadata": {},
   "outputs": [],
   "source": [
    "import Orange"
   ]
  },
  {
   "cell_type": "markdown",
   "id": "7aee6dcf",
   "metadata": {},
   "source": [
    "Base de dados"
   ]
  },
  {
   "cell_type": "code",
   "execution_count": 3,
   "id": "bff8f90c",
   "metadata": {},
   "outputs": [],
   "source": [
    "risk_credit_base = Orange.data.Table(\"risco_credito_regras.csv\")"
   ]
  },
  {
   "cell_type": "code",
   "execution_count": 4,
   "id": "04de3de1",
   "metadata": {},
   "outputs": [
    {
     "data": {
      "text/plain": [
       "[historia, divida, garantias, renda | risco]"
      ]
     },
     "execution_count": 4,
     "metadata": {},
     "output_type": "execute_result"
    }
   ],
   "source": [
    "risk_credit_base.domain"
   ]
  },
  {
   "cell_type": "code",
   "execution_count": null,
   "id": "aafde3e7",
   "metadata": {},
   "outputs": [],
   "source": [
    "# Treinamento da base de dados usando o algoritmo CN2\n",
    "# CN2 é um algoritmo de aprendizado de regras\n",
    "\n",
    "cn2 = Orange.classification.rules.CN2Learner()\n",
    "rules_credit_risk = cn2(risk_credit_base)\n"
   ]
  },
  {
   "cell_type": "code",
   "execution_count": 11,
   "id": "6d7d403d",
   "metadata": {},
   "outputs": [
    {
     "name": "stdout",
     "output_type": "stream",
     "text": [
      "IF renda==0_15 THEN risco=alto \n",
      "IF historia==boa AND divida!=alta THEN risco=baixo \n",
      "IF historia==boa AND garantias!=nenhuma THEN risco=baixo \n",
      "IF historia==boa AND renda!=15_35 THEN risco=baixo \n",
      "IF historia==boa THEN risco=moderado \n",
      "IF divida==alta THEN risco=alto \n",
      "IF historia!=desconhecida THEN risco=moderado \n",
      "IF garantias==adequada THEN risco=baixo \n",
      "IF renda==15_35 THEN risco=moderado \n",
      "IF historia==desconhecida THEN risco=alto \n",
      "IF TRUE THEN risco=alto \n"
     ]
    }
   ],
   "source": [
    "for rule in rules_credit_risk.rule_list:\n",
    "    print(rule)"
   ]
  },
  {
   "cell_type": "code",
   "execution_count": 12,
   "id": "7a22fef2",
   "metadata": {},
   "outputs": [
    {
     "data": {
      "text/plain": [
       "array([1, 0])"
      ]
     },
     "execution_count": 12,
     "metadata": {},
     "output_type": "execute_result"
    }
   ],
   "source": [
    "# história boa, dívida alta, garantias nenhuma, renda > 35\n",
    "# hisótira ruim, dívida alta, garantias adequadas, renda < 15\n",
    "\n",
    "predictions = rules_credit_risk([['boa', 'alta', 'nenhuma', 'acima_35'], ['ruim', 'alta', 'adequada', '0_15']])\n",
    "predictions"
   ]
  },
  {
   "cell_type": "code",
   "execution_count": 19,
   "id": "bf47e08e",
   "metadata": {},
   "outputs": [
    {
     "data": {
      "text/plain": [
       "('alto', 'baixo', 'moderado')"
      ]
     },
     "execution_count": 19,
     "metadata": {},
     "output_type": "execute_result"
    }
   ],
   "source": [
    "risk_credit_base.domain.class_var.values"
   ]
  },
  {
   "cell_type": "code",
   "execution_count": 20,
   "id": "af98c8e1",
   "metadata": {},
   "outputs": [
    {
     "name": "stdout",
     "output_type": "stream",
     "text": [
      "baixo\n",
      "alto\n"
     ]
    }
   ],
   "source": [
    "for i in predictions:\n",
    "    print(risk_credit_base.domain.class_var.values[i])"
   ]
  }
 ],
 "metadata": {
  "kernelspec": {
   "display_name": "base",
   "language": "python",
   "name": "python3"
  },
  "language_info": {
   "codemirror_mode": {
    "name": "ipython",
    "version": 3
   },
   "file_extension": ".py",
   "mimetype": "text/x-python",
   "name": "python",
   "nbconvert_exporter": "python",
   "pygments_lexer": "ipython3",
   "version": "3.12.7"
  }
 },
 "nbformat": 4,
 "nbformat_minor": 5
}
