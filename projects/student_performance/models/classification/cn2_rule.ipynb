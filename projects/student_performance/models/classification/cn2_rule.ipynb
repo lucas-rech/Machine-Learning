{
 "cells": [
  {
   "cell_type": "markdown",
   "id": "110bf0a2",
   "metadata": {},
   "source": [
    "### CN2 Rules\n",
    "\n",
    "Utilizado base de dados sem encoder \\\n",
    "\\\n",
    "Score alcançado: 91%"
   ]
  },
  {
   "cell_type": "code",
   "execution_count": 24,
   "id": "9476065d",
   "metadata": {},
   "outputs": [],
   "source": [
    "import Orange"
   ]
  },
  {
   "cell_type": "code",
   "execution_count": 3,
   "id": "d06ec5b8",
   "metadata": {},
   "outputs": [],
   "source": [
    "students_dataset = Orange.data.Table('../../data/StudentsPerformance_processed.csv')"
   ]
  },
  {
   "cell_type": "code",
   "execution_count": 4,
   "id": "ffd3056d",
   "metadata": {},
   "outputs": [
    {
     "data": {
      "text/plain": [
       "[gender, race/ethnicity, parental level of education, lunch, test preparation course, math score, reading score, writing score | score class]"
      ]
     },
     "execution_count": 4,
     "metadata": {},
     "output_type": "execute_result"
    }
   ],
   "source": [
    "students_dataset.domain"
   ]
  },
  {
   "cell_type": "markdown",
   "id": "4c53c08d",
   "metadata": {},
   "source": [
    "#### Dividing the training and testing bases\n",
    "\n",
    "Separating 15% of the base for testing"
   ]
  },
  {
   "cell_type": "code",
   "execution_count": 5,
   "id": "62e9f1ad",
   "metadata": {},
   "outputs": [],
   "source": [
    "divided_data = Orange.evaluation.testing.sample(students_dataset, n = 0.15)"
   ]
  },
  {
   "cell_type": "code",
   "execution_count": 6,
   "id": "42d67fcf",
   "metadata": {},
   "outputs": [],
   "source": [
    "train_data = divided_data[1]\n",
    "test_data = divided_data[0]"
   ]
  },
  {
   "cell_type": "code",
   "execution_count": 7,
   "id": "923d72ea",
   "metadata": {},
   "outputs": [
    {
     "data": {
      "text/plain": [
       "(850, 150)"
      ]
     },
     "execution_count": 7,
     "metadata": {},
     "output_type": "execute_result"
    }
   ],
   "source": [
    "len(train_data), len(test_data)"
   ]
  },
  {
   "cell_type": "markdown",
   "id": "10d7aa40",
   "metadata": {},
   "source": [
    "#### Training model"
   ]
  },
  {
   "cell_type": "code",
   "execution_count": 8,
   "id": "0693aa41",
   "metadata": {},
   "outputs": [],
   "source": [
    "cn2 = Orange.classification.rules.CN2Learner()\n",
    "rules_students = cn2(train_data)"
   ]
  },
  {
   "cell_type": "markdown",
   "id": "0427cafa",
   "metadata": {},
   "source": [
    "Testing Predictions"
   ]
  },
  {
   "cell_type": "code",
   "execution_count": 10,
   "id": "d5517e91",
   "metadata": {},
   "outputs": [],
   "source": [
    "predictions = Orange.evaluation.testing.TestOnTestData(train_data, test_data, [lambda test_data: rules_students])"
   ]
  },
  {
   "cell_type": "code",
   "execution_count": 12,
   "id": "c6962ef9",
   "metadata": {},
   "outputs": [
    {
     "data": {
      "text/plain": [
       "array([0.91333333])"
      ]
     },
     "execution_count": 12,
     "metadata": {},
     "output_type": "execute_result"
    }
   ],
   "source": [
    "Orange.evaluation.CA(predictions)"
   ]
  }
 ],
 "metadata": {
  "kernelspec": {
   "display_name": "base",
   "language": "python",
   "name": "python3"
  },
  "language_info": {
   "codemirror_mode": {
    "name": "ipython",
    "version": 3
   },
   "file_extension": ".py",
   "mimetype": "text/x-python",
   "name": "python",
   "nbconvert_exporter": "python",
   "pygments_lexer": "ipython3",
   "version": "3.12.7"
  }
 },
 "nbformat": 4,
 "nbformat_minor": 5
}
