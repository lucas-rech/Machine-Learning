{
 "cells": [
  {
   "cell_type": "markdown",
   "id": "3580ca95",
   "metadata": {},
   "source": [
    "# Student Performance - Processing\n",
    "Dataset of students performance in exams. \\\n",
    "Processing the average score of each student \\\n",
    "\\\n",
    "In this processing, we took the original database and averaged the scoring variables. We then create a categorization class according to the following logic:\n",
    "class A - 80 to 100 \\\n",
    "class B - 50 to 79 \\\n",
    "class C - 0 to 49 \n",
    "\n",
    "After classification, a label encoder was used to transform the classes into numerical values. In the attribute variables, we used One Hot Encoder, and in the numerical attribute of average score, we transformed the numbers into a 0-1 scale.\n",
    "\n",
    "\n",
    "\n",
    "Kaggle: https://www.kaggle.com/datasets/spscientist/students-performance-in-exams"
   ]
  },
  {
   "cell_type": "code",
   "execution_count": 11,
   "id": "880072f4",
   "metadata": {},
   "outputs": [],
   "source": [
    "import pandas as pd\n",
    "import numpy as np\n",
    "import seaborn as sns\n",
    "import matplotlib.pyplot as plt\n",
    "import plotly.express as px"
   ]
  },
  {
   "cell_type": "code",
   "execution_count": 128,
   "id": "b631425d",
   "metadata": {},
   "outputs": [],
   "source": [
    "#Importing dataset file\n",
    "data_students = pd.read_csv('./data/StudentsPerformance.csv')"
   ]
  },
  {
   "cell_type": "code",
   "execution_count": 129,
   "id": "486290c1",
   "metadata": {},
   "outputs": [
    {
     "data": {
      "text/plain": [
       "Index(['gender', 'race/ethnicity', 'parental level of education', 'lunch',\n",
       "       'test preparation course', 'math score', 'reading score',\n",
       "       'writing score'],\n",
       "      dtype='object')"
      ]
     },
     "execution_count": 129,
     "metadata": {},
     "output_type": "execute_result"
    }
   ],
   "source": [
    "#Exploring dataset\n",
    "data_students.columns"
   ]
  },
  {
   "cell_type": "code",
   "execution_count": 130,
   "id": "36f97b67",
   "metadata": {},
   "outputs": [
    {
     "data": {
      "application/vnd.microsoft.datawrangler.viewer.v0+json": {
       "columns": [
        {
         "name": "index",
         "rawType": "int64",
         "type": "integer"
        },
        {
         "name": "gender",
         "rawType": "object",
         "type": "string"
        },
        {
         "name": "race/ethnicity",
         "rawType": "object",
         "type": "string"
        },
        {
         "name": "parental level of education",
         "rawType": "object",
         "type": "string"
        },
        {
         "name": "lunch",
         "rawType": "object",
         "type": "string"
        },
        {
         "name": "test preparation course",
         "rawType": "object",
         "type": "string"
        },
        {
         "name": "math score",
         "rawType": "int64",
         "type": "integer"
        },
        {
         "name": "reading score",
         "rawType": "int64",
         "type": "integer"
        },
        {
         "name": "writing score",
         "rawType": "int64",
         "type": "integer"
        }
       ],
       "ref": "93988185-758a-4d28-974d-697f3ae573d6",
       "rows": [
        [
         "0",
         "female",
         "group B",
         "bachelor's degree",
         "standard",
         "none",
         "72",
         "72",
         "74"
        ],
        [
         "1",
         "female",
         "group C",
         "some college",
         "standard",
         "completed",
         "69",
         "90",
         "88"
        ],
        [
         "2",
         "female",
         "group B",
         "master's degree",
         "standard",
         "none",
         "90",
         "95",
         "93"
        ],
        [
         "3",
         "male",
         "group A",
         "associate's degree",
         "free/reduced",
         "none",
         "47",
         "57",
         "44"
        ],
        [
         "4",
         "male",
         "group C",
         "some college",
         "standard",
         "none",
         "76",
         "78",
         "75"
        ],
        [
         "5",
         "female",
         "group B",
         "associate's degree",
         "standard",
         "none",
         "71",
         "83",
         "78"
        ],
        [
         "6",
         "female",
         "group B",
         "some college",
         "standard",
         "completed",
         "88",
         "95",
         "92"
        ],
        [
         "7",
         "male",
         "group B",
         "some college",
         "free/reduced",
         "none",
         "40",
         "43",
         "39"
        ],
        [
         "8",
         "male",
         "group D",
         "high school",
         "free/reduced",
         "completed",
         "64",
         "64",
         "67"
        ],
        [
         "9",
         "female",
         "group B",
         "high school",
         "free/reduced",
         "none",
         "38",
         "60",
         "50"
        ]
       ],
       "shape": {
        "columns": 8,
        "rows": 10
       }
      },
      "text/html": [
       "<div>\n",
       "<style scoped>\n",
       "    .dataframe tbody tr th:only-of-type {\n",
       "        vertical-align: middle;\n",
       "    }\n",
       "\n",
       "    .dataframe tbody tr th {\n",
       "        vertical-align: top;\n",
       "    }\n",
       "\n",
       "    .dataframe thead th {\n",
       "        text-align: right;\n",
       "    }\n",
       "</style>\n",
       "<table border=\"1\" class=\"dataframe\">\n",
       "  <thead>\n",
       "    <tr style=\"text-align: right;\">\n",
       "      <th></th>\n",
       "      <th>gender</th>\n",
       "      <th>race/ethnicity</th>\n",
       "      <th>parental level of education</th>\n",
       "      <th>lunch</th>\n",
       "      <th>test preparation course</th>\n",
       "      <th>math score</th>\n",
       "      <th>reading score</th>\n",
       "      <th>writing score</th>\n",
       "    </tr>\n",
       "  </thead>\n",
       "  <tbody>\n",
       "    <tr>\n",
       "      <th>0</th>\n",
       "      <td>female</td>\n",
       "      <td>group B</td>\n",
       "      <td>bachelor's degree</td>\n",
       "      <td>standard</td>\n",
       "      <td>none</td>\n",
       "      <td>72</td>\n",
       "      <td>72</td>\n",
       "      <td>74</td>\n",
       "    </tr>\n",
       "    <tr>\n",
       "      <th>1</th>\n",
       "      <td>female</td>\n",
       "      <td>group C</td>\n",
       "      <td>some college</td>\n",
       "      <td>standard</td>\n",
       "      <td>completed</td>\n",
       "      <td>69</td>\n",
       "      <td>90</td>\n",
       "      <td>88</td>\n",
       "    </tr>\n",
       "    <tr>\n",
       "      <th>2</th>\n",
       "      <td>female</td>\n",
       "      <td>group B</td>\n",
       "      <td>master's degree</td>\n",
       "      <td>standard</td>\n",
       "      <td>none</td>\n",
       "      <td>90</td>\n",
       "      <td>95</td>\n",
       "      <td>93</td>\n",
       "    </tr>\n",
       "    <tr>\n",
       "      <th>3</th>\n",
       "      <td>male</td>\n",
       "      <td>group A</td>\n",
       "      <td>associate's degree</td>\n",
       "      <td>free/reduced</td>\n",
       "      <td>none</td>\n",
       "      <td>47</td>\n",
       "      <td>57</td>\n",
       "      <td>44</td>\n",
       "    </tr>\n",
       "    <tr>\n",
       "      <th>4</th>\n",
       "      <td>male</td>\n",
       "      <td>group C</td>\n",
       "      <td>some college</td>\n",
       "      <td>standard</td>\n",
       "      <td>none</td>\n",
       "      <td>76</td>\n",
       "      <td>78</td>\n",
       "      <td>75</td>\n",
       "    </tr>\n",
       "    <tr>\n",
       "      <th>5</th>\n",
       "      <td>female</td>\n",
       "      <td>group B</td>\n",
       "      <td>associate's degree</td>\n",
       "      <td>standard</td>\n",
       "      <td>none</td>\n",
       "      <td>71</td>\n",
       "      <td>83</td>\n",
       "      <td>78</td>\n",
       "    </tr>\n",
       "    <tr>\n",
       "      <th>6</th>\n",
       "      <td>female</td>\n",
       "      <td>group B</td>\n",
       "      <td>some college</td>\n",
       "      <td>standard</td>\n",
       "      <td>completed</td>\n",
       "      <td>88</td>\n",
       "      <td>95</td>\n",
       "      <td>92</td>\n",
       "    </tr>\n",
       "    <tr>\n",
       "      <th>7</th>\n",
       "      <td>male</td>\n",
       "      <td>group B</td>\n",
       "      <td>some college</td>\n",
       "      <td>free/reduced</td>\n",
       "      <td>none</td>\n",
       "      <td>40</td>\n",
       "      <td>43</td>\n",
       "      <td>39</td>\n",
       "    </tr>\n",
       "    <tr>\n",
       "      <th>8</th>\n",
       "      <td>male</td>\n",
       "      <td>group D</td>\n",
       "      <td>high school</td>\n",
       "      <td>free/reduced</td>\n",
       "      <td>completed</td>\n",
       "      <td>64</td>\n",
       "      <td>64</td>\n",
       "      <td>67</td>\n",
       "    </tr>\n",
       "    <tr>\n",
       "      <th>9</th>\n",
       "      <td>female</td>\n",
       "      <td>group B</td>\n",
       "      <td>high school</td>\n",
       "      <td>free/reduced</td>\n",
       "      <td>none</td>\n",
       "      <td>38</td>\n",
       "      <td>60</td>\n",
       "      <td>50</td>\n",
       "    </tr>\n",
       "  </tbody>\n",
       "</table>\n",
       "</div>"
      ],
      "text/plain": [
       "   gender race/ethnicity parental level of education         lunch  \\\n",
       "0  female        group B           bachelor's degree      standard   \n",
       "1  female        group C                some college      standard   \n",
       "2  female        group B             master's degree      standard   \n",
       "3    male        group A          associate's degree  free/reduced   \n",
       "4    male        group C                some college      standard   \n",
       "5  female        group B          associate's degree      standard   \n",
       "6  female        group B                some college      standard   \n",
       "7    male        group B                some college  free/reduced   \n",
       "8    male        group D                 high school  free/reduced   \n",
       "9  female        group B                 high school  free/reduced   \n",
       "\n",
       "  test preparation course  math score  reading score  writing score  \n",
       "0                    none          72             72             74  \n",
       "1               completed          69             90             88  \n",
       "2                    none          90             95             93  \n",
       "3                    none          47             57             44  \n",
       "4                    none          76             78             75  \n",
       "5                    none          71             83             78  \n",
       "6               completed          88             95             92  \n",
       "7                    none          40             43             39  \n",
       "8               completed          64             64             67  \n",
       "9                    none          38             60             50  "
      ]
     },
     "execution_count": 130,
     "metadata": {},
     "output_type": "execute_result"
    }
   ],
   "source": [
    "data_students.head(10)"
   ]
  },
  {
   "cell_type": "code",
   "execution_count": 131,
   "id": "4a524e7b",
   "metadata": {},
   "outputs": [],
   "source": [
    "data_students['average score'] = data_students[['math score', 'reading score', 'writing score']].mean(axis=1)\n"
   ]
  },
  {
   "cell_type": "markdown",
   "id": "ba4c5308",
   "metadata": {},
   "source": [
    "In this database we will be working with classification, so we have the following classes: A, B and C, which follow the respective average grade rule:\n",
    "\n",
    "class A - 80 to 100\n",
    "| class B - 50 to 79\n",
    "| class C - 0 to 49"
   ]
  },
  {
   "cell_type": "code",
   "execution_count": 132,
   "id": "2e1e9eb7",
   "metadata": {},
   "outputs": [],
   "source": [
    "def classify(score):\n",
    "    if score >= 80:\n",
    "        return 'A'\n",
    "    elif score >= 50:\n",
    "        return 'B'\n",
    "    else:\n",
    "        return 'C'\n",
    "\n",
    "# Aplicar a função\n",
    "data_students['score class'] = data_students['average score'].apply(classify)\n",
    "\n",
    "# Salvar o novo CSV (opcional)\n",
    "data_students.to_csv('students_classificados.csv', index=False)"
   ]
  },
  {
   "cell_type": "code",
   "execution_count": 133,
   "id": "1b7b729e",
   "metadata": {},
   "outputs": [
    {
     "data": {
      "application/vnd.microsoft.datawrangler.viewer.v0+json": {
       "columns": [
        {
         "name": "index",
         "rawType": "int64",
         "type": "integer"
        },
        {
         "name": "gender",
         "rawType": "object",
         "type": "string"
        },
        {
         "name": "race/ethnicity",
         "rawType": "object",
         "type": "string"
        },
        {
         "name": "parental level of education",
         "rawType": "object",
         "type": "string"
        },
        {
         "name": "lunch",
         "rawType": "object",
         "type": "string"
        },
        {
         "name": "test preparation course",
         "rawType": "object",
         "type": "string"
        },
        {
         "name": "math score",
         "rawType": "int64",
         "type": "integer"
        },
        {
         "name": "reading score",
         "rawType": "int64",
         "type": "integer"
        },
        {
         "name": "writing score",
         "rawType": "int64",
         "type": "integer"
        },
        {
         "name": "average score",
         "rawType": "float64",
         "type": "float"
        },
        {
         "name": "score class",
         "rawType": "object",
         "type": "string"
        }
       ],
       "ref": "9f677ccd-a13b-4aad-9e65-d2a1a6851762",
       "rows": [
        [
         "0",
         "female",
         "group B",
         "bachelor's degree",
         "standard",
         "none",
         "72",
         "72",
         "74",
         "72.66666666666667",
         "B"
        ],
        [
         "1",
         "female",
         "group C",
         "some college",
         "standard",
         "completed",
         "69",
         "90",
         "88",
         "82.33333333333333",
         "A"
        ],
        [
         "2",
         "female",
         "group B",
         "master's degree",
         "standard",
         "none",
         "90",
         "95",
         "93",
         "92.66666666666667",
         "A"
        ],
        [
         "3",
         "male",
         "group A",
         "associate's degree",
         "free/reduced",
         "none",
         "47",
         "57",
         "44",
         "49.333333333333336",
         "C"
        ],
        [
         "4",
         "male",
         "group C",
         "some college",
         "standard",
         "none",
         "76",
         "78",
         "75",
         "76.33333333333333",
         "B"
        ],
        [
         "5",
         "female",
         "group B",
         "associate's degree",
         "standard",
         "none",
         "71",
         "83",
         "78",
         "77.33333333333333",
         "B"
        ],
        [
         "6",
         "female",
         "group B",
         "some college",
         "standard",
         "completed",
         "88",
         "95",
         "92",
         "91.66666666666667",
         "A"
        ],
        [
         "7",
         "male",
         "group B",
         "some college",
         "free/reduced",
         "none",
         "40",
         "43",
         "39",
         "40.666666666666664",
         "C"
        ],
        [
         "8",
         "male",
         "group D",
         "high school",
         "free/reduced",
         "completed",
         "64",
         "64",
         "67",
         "65.0",
         "B"
        ],
        [
         "9",
         "female",
         "group B",
         "high school",
         "free/reduced",
         "none",
         "38",
         "60",
         "50",
         "49.333333333333336",
         "C"
        ]
       ],
       "shape": {
        "columns": 10,
        "rows": 10
       }
      },
      "text/html": [
       "<div>\n",
       "<style scoped>\n",
       "    .dataframe tbody tr th:only-of-type {\n",
       "        vertical-align: middle;\n",
       "    }\n",
       "\n",
       "    .dataframe tbody tr th {\n",
       "        vertical-align: top;\n",
       "    }\n",
       "\n",
       "    .dataframe thead th {\n",
       "        text-align: right;\n",
       "    }\n",
       "</style>\n",
       "<table border=\"1\" class=\"dataframe\">\n",
       "  <thead>\n",
       "    <tr style=\"text-align: right;\">\n",
       "      <th></th>\n",
       "      <th>gender</th>\n",
       "      <th>race/ethnicity</th>\n",
       "      <th>parental level of education</th>\n",
       "      <th>lunch</th>\n",
       "      <th>test preparation course</th>\n",
       "      <th>math score</th>\n",
       "      <th>reading score</th>\n",
       "      <th>writing score</th>\n",
       "      <th>average score</th>\n",
       "      <th>score class</th>\n",
       "    </tr>\n",
       "  </thead>\n",
       "  <tbody>\n",
       "    <tr>\n",
       "      <th>0</th>\n",
       "      <td>female</td>\n",
       "      <td>group B</td>\n",
       "      <td>bachelor's degree</td>\n",
       "      <td>standard</td>\n",
       "      <td>none</td>\n",
       "      <td>72</td>\n",
       "      <td>72</td>\n",
       "      <td>74</td>\n",
       "      <td>72.666667</td>\n",
       "      <td>B</td>\n",
       "    </tr>\n",
       "    <tr>\n",
       "      <th>1</th>\n",
       "      <td>female</td>\n",
       "      <td>group C</td>\n",
       "      <td>some college</td>\n",
       "      <td>standard</td>\n",
       "      <td>completed</td>\n",
       "      <td>69</td>\n",
       "      <td>90</td>\n",
       "      <td>88</td>\n",
       "      <td>82.333333</td>\n",
       "      <td>A</td>\n",
       "    </tr>\n",
       "    <tr>\n",
       "      <th>2</th>\n",
       "      <td>female</td>\n",
       "      <td>group B</td>\n",
       "      <td>master's degree</td>\n",
       "      <td>standard</td>\n",
       "      <td>none</td>\n",
       "      <td>90</td>\n",
       "      <td>95</td>\n",
       "      <td>93</td>\n",
       "      <td>92.666667</td>\n",
       "      <td>A</td>\n",
       "    </tr>\n",
       "    <tr>\n",
       "      <th>3</th>\n",
       "      <td>male</td>\n",
       "      <td>group A</td>\n",
       "      <td>associate's degree</td>\n",
       "      <td>free/reduced</td>\n",
       "      <td>none</td>\n",
       "      <td>47</td>\n",
       "      <td>57</td>\n",
       "      <td>44</td>\n",
       "      <td>49.333333</td>\n",
       "      <td>C</td>\n",
       "    </tr>\n",
       "    <tr>\n",
       "      <th>4</th>\n",
       "      <td>male</td>\n",
       "      <td>group C</td>\n",
       "      <td>some college</td>\n",
       "      <td>standard</td>\n",
       "      <td>none</td>\n",
       "      <td>76</td>\n",
       "      <td>78</td>\n",
       "      <td>75</td>\n",
       "      <td>76.333333</td>\n",
       "      <td>B</td>\n",
       "    </tr>\n",
       "    <tr>\n",
       "      <th>5</th>\n",
       "      <td>female</td>\n",
       "      <td>group B</td>\n",
       "      <td>associate's degree</td>\n",
       "      <td>standard</td>\n",
       "      <td>none</td>\n",
       "      <td>71</td>\n",
       "      <td>83</td>\n",
       "      <td>78</td>\n",
       "      <td>77.333333</td>\n",
       "      <td>B</td>\n",
       "    </tr>\n",
       "    <tr>\n",
       "      <th>6</th>\n",
       "      <td>female</td>\n",
       "      <td>group B</td>\n",
       "      <td>some college</td>\n",
       "      <td>standard</td>\n",
       "      <td>completed</td>\n",
       "      <td>88</td>\n",
       "      <td>95</td>\n",
       "      <td>92</td>\n",
       "      <td>91.666667</td>\n",
       "      <td>A</td>\n",
       "    </tr>\n",
       "    <tr>\n",
       "      <th>7</th>\n",
       "      <td>male</td>\n",
       "      <td>group B</td>\n",
       "      <td>some college</td>\n",
       "      <td>free/reduced</td>\n",
       "      <td>none</td>\n",
       "      <td>40</td>\n",
       "      <td>43</td>\n",
       "      <td>39</td>\n",
       "      <td>40.666667</td>\n",
       "      <td>C</td>\n",
       "    </tr>\n",
       "    <tr>\n",
       "      <th>8</th>\n",
       "      <td>male</td>\n",
       "      <td>group D</td>\n",
       "      <td>high school</td>\n",
       "      <td>free/reduced</td>\n",
       "      <td>completed</td>\n",
       "      <td>64</td>\n",
       "      <td>64</td>\n",
       "      <td>67</td>\n",
       "      <td>65.000000</td>\n",
       "      <td>B</td>\n",
       "    </tr>\n",
       "    <tr>\n",
       "      <th>9</th>\n",
       "      <td>female</td>\n",
       "      <td>group B</td>\n",
       "      <td>high school</td>\n",
       "      <td>free/reduced</td>\n",
       "      <td>none</td>\n",
       "      <td>38</td>\n",
       "      <td>60</td>\n",
       "      <td>50</td>\n",
       "      <td>49.333333</td>\n",
       "      <td>C</td>\n",
       "    </tr>\n",
       "  </tbody>\n",
       "</table>\n",
       "</div>"
      ],
      "text/plain": [
       "   gender race/ethnicity parental level of education         lunch  \\\n",
       "0  female        group B           bachelor's degree      standard   \n",
       "1  female        group C                some college      standard   \n",
       "2  female        group B             master's degree      standard   \n",
       "3    male        group A          associate's degree  free/reduced   \n",
       "4    male        group C                some college      standard   \n",
       "5  female        group B          associate's degree      standard   \n",
       "6  female        group B                some college      standard   \n",
       "7    male        group B                some college  free/reduced   \n",
       "8    male        group D                 high school  free/reduced   \n",
       "9  female        group B                 high school  free/reduced   \n",
       "\n",
       "  test preparation course  math score  reading score  writing score  \\\n",
       "0                    none          72             72             74   \n",
       "1               completed          69             90             88   \n",
       "2                    none          90             95             93   \n",
       "3                    none          47             57             44   \n",
       "4                    none          76             78             75   \n",
       "5                    none          71             83             78   \n",
       "6               completed          88             95             92   \n",
       "7                    none          40             43             39   \n",
       "8               completed          64             64             67   \n",
       "9                    none          38             60             50   \n",
       "\n",
       "   average score score class  \n",
       "0      72.666667           B  \n",
       "1      82.333333           A  \n",
       "2      92.666667           A  \n",
       "3      49.333333           C  \n",
       "4      76.333333           B  \n",
       "5      77.333333           B  \n",
       "6      91.666667           A  \n",
       "7      40.666667           C  \n",
       "8      65.000000           B  \n",
       "9      49.333333           C  "
      ]
     },
     "execution_count": 133,
     "metadata": {},
     "output_type": "execute_result"
    }
   ],
   "source": [
    "data_students.head(10)"
   ]
  },
  {
   "cell_type": "code",
   "execution_count": 134,
   "id": "de2f465d",
   "metadata": {},
   "outputs": [],
   "source": [
    "data_students = data_students.drop(columns='average score')"
   ]
  },
  {
   "cell_type": "code",
   "execution_count": 135,
   "id": "4e2cb916",
   "metadata": {},
   "outputs": [
    {
     "data": {
      "application/vnd.microsoft.datawrangler.viewer.v0+json": {
       "columns": [
        {
         "name": "index",
         "rawType": "int64",
         "type": "integer"
        },
        {
         "name": "gender",
         "rawType": "object",
         "type": "string"
        },
        {
         "name": "race/ethnicity",
         "rawType": "object",
         "type": "string"
        },
        {
         "name": "parental level of education",
         "rawType": "object",
         "type": "string"
        },
        {
         "name": "lunch",
         "rawType": "object",
         "type": "string"
        },
        {
         "name": "test preparation course",
         "rawType": "object",
         "type": "string"
        },
        {
         "name": "math score",
         "rawType": "int64",
         "type": "integer"
        },
        {
         "name": "reading score",
         "rawType": "int64",
         "type": "integer"
        },
        {
         "name": "writing score",
         "rawType": "int64",
         "type": "integer"
        },
        {
         "name": "score class",
         "rawType": "object",
         "type": "string"
        }
       ],
       "ref": "13b0648d-0c59-433d-9b7a-648c7220d540",
       "rows": [
        [
         "0",
         "female",
         "group B",
         "bachelor's degree",
         "standard",
         "none",
         "72",
         "72",
         "74",
         "B"
        ],
        [
         "1",
         "female",
         "group C",
         "some college",
         "standard",
         "completed",
         "69",
         "90",
         "88",
         "A"
        ],
        [
         "2",
         "female",
         "group B",
         "master's degree",
         "standard",
         "none",
         "90",
         "95",
         "93",
         "A"
        ],
        [
         "3",
         "male",
         "group A",
         "associate's degree",
         "free/reduced",
         "none",
         "47",
         "57",
         "44",
         "C"
        ],
        [
         "4",
         "male",
         "group C",
         "some college",
         "standard",
         "none",
         "76",
         "78",
         "75",
         "B"
        ]
       ],
       "shape": {
        "columns": 9,
        "rows": 5
       }
      },
      "text/html": [
       "<div>\n",
       "<style scoped>\n",
       "    .dataframe tbody tr th:only-of-type {\n",
       "        vertical-align: middle;\n",
       "    }\n",
       "\n",
       "    .dataframe tbody tr th {\n",
       "        vertical-align: top;\n",
       "    }\n",
       "\n",
       "    .dataframe thead th {\n",
       "        text-align: right;\n",
       "    }\n",
       "</style>\n",
       "<table border=\"1\" class=\"dataframe\">\n",
       "  <thead>\n",
       "    <tr style=\"text-align: right;\">\n",
       "      <th></th>\n",
       "      <th>gender</th>\n",
       "      <th>race/ethnicity</th>\n",
       "      <th>parental level of education</th>\n",
       "      <th>lunch</th>\n",
       "      <th>test preparation course</th>\n",
       "      <th>math score</th>\n",
       "      <th>reading score</th>\n",
       "      <th>writing score</th>\n",
       "      <th>score class</th>\n",
       "    </tr>\n",
       "  </thead>\n",
       "  <tbody>\n",
       "    <tr>\n",
       "      <th>0</th>\n",
       "      <td>female</td>\n",
       "      <td>group B</td>\n",
       "      <td>bachelor's degree</td>\n",
       "      <td>standard</td>\n",
       "      <td>none</td>\n",
       "      <td>72</td>\n",
       "      <td>72</td>\n",
       "      <td>74</td>\n",
       "      <td>B</td>\n",
       "    </tr>\n",
       "    <tr>\n",
       "      <th>1</th>\n",
       "      <td>female</td>\n",
       "      <td>group C</td>\n",
       "      <td>some college</td>\n",
       "      <td>standard</td>\n",
       "      <td>completed</td>\n",
       "      <td>69</td>\n",
       "      <td>90</td>\n",
       "      <td>88</td>\n",
       "      <td>A</td>\n",
       "    </tr>\n",
       "    <tr>\n",
       "      <th>2</th>\n",
       "      <td>female</td>\n",
       "      <td>group B</td>\n",
       "      <td>master's degree</td>\n",
       "      <td>standard</td>\n",
       "      <td>none</td>\n",
       "      <td>90</td>\n",
       "      <td>95</td>\n",
       "      <td>93</td>\n",
       "      <td>A</td>\n",
       "    </tr>\n",
       "    <tr>\n",
       "      <th>3</th>\n",
       "      <td>male</td>\n",
       "      <td>group A</td>\n",
       "      <td>associate's degree</td>\n",
       "      <td>free/reduced</td>\n",
       "      <td>none</td>\n",
       "      <td>47</td>\n",
       "      <td>57</td>\n",
       "      <td>44</td>\n",
       "      <td>C</td>\n",
       "    </tr>\n",
       "    <tr>\n",
       "      <th>4</th>\n",
       "      <td>male</td>\n",
       "      <td>group C</td>\n",
       "      <td>some college</td>\n",
       "      <td>standard</td>\n",
       "      <td>none</td>\n",
       "      <td>76</td>\n",
       "      <td>78</td>\n",
       "      <td>75</td>\n",
       "      <td>B</td>\n",
       "    </tr>\n",
       "  </tbody>\n",
       "</table>\n",
       "</div>"
      ],
      "text/plain": [
       "   gender race/ethnicity parental level of education         lunch  \\\n",
       "0  female        group B           bachelor's degree      standard   \n",
       "1  female        group C                some college      standard   \n",
       "2  female        group B             master's degree      standard   \n",
       "3    male        group A          associate's degree  free/reduced   \n",
       "4    male        group C                some college      standard   \n",
       "\n",
       "  test preparation course  math score  reading score  writing score  \\\n",
       "0                    none          72             72             74   \n",
       "1               completed          69             90             88   \n",
       "2                    none          90             95             93   \n",
       "3                    none          47             57             44   \n",
       "4                    none          76             78             75   \n",
       "\n",
       "  score class  \n",
       "0           B  \n",
       "1           A  \n",
       "2           A  \n",
       "3           C  \n",
       "4           B  "
      ]
     },
     "execution_count": 135,
     "metadata": {},
     "output_type": "execute_result"
    }
   ],
   "source": [
    "data_students.head()"
   ]
  },
  {
   "cell_type": "code",
   "execution_count": 160,
   "id": "8bd31d04",
   "metadata": {},
   "outputs": [],
   "source": [
    "data_students.to_csv('data/StudentsPerformance_processed.csv', index=False)"
   ]
  },
  {
   "cell_type": "markdown",
   "id": "22e03e4c",
   "metadata": {},
   "source": [
    "### Checking inconsistent values"
   ]
  },
  {
   "cell_type": "code",
   "execution_count": 136,
   "id": "ab154e93",
   "metadata": {},
   "outputs": [
    {
     "data": {
      "application/vnd.microsoft.datawrangler.viewer.v0+json": {
       "columns": [
        {
         "name": "index",
         "rawType": "object",
         "type": "string"
        },
        {
         "name": "0",
         "rawType": "int64",
         "type": "integer"
        }
       ],
       "ref": "5492ab6a-3227-4e6e-abb5-4e15cd12465e",
       "rows": [
        [
         "gender",
         "0"
        ],
        [
         "race/ethnicity",
         "0"
        ],
        [
         "parental level of education",
         "0"
        ],
        [
         "lunch",
         "0"
        ],
        [
         "test preparation course",
         "0"
        ],
        [
         "math score",
         "0"
        ],
        [
         "reading score",
         "0"
        ],
        [
         "writing score",
         "0"
        ],
        [
         "score class",
         "0"
        ]
       ],
       "shape": {
        "columns": 1,
        "rows": 9
       }
      },
      "text/plain": [
       "gender                         0\n",
       "race/ethnicity                 0\n",
       "parental level of education    0\n",
       "lunch                          0\n",
       "test preparation course        0\n",
       "math score                     0\n",
       "reading score                  0\n",
       "writing score                  0\n",
       "score class                    0\n",
       "dtype: int64"
      ]
     },
     "execution_count": 136,
     "metadata": {},
     "output_type": "execute_result"
    }
   ],
   "source": [
    "# All columns have been checked\n",
    "data_students.isnull().sum()"
   ]
  },
  {
   "cell_type": "markdown",
   "id": "719c3009",
   "metadata": {},
   "source": [
    "### Exploring dataset"
   ]
  },
  {
   "cell_type": "code",
   "execution_count": 137,
   "id": "b7998ecd",
   "metadata": {},
   "outputs": [
    {
     "data": {
      "text/plain": [
       "(array([699.,   0.,   0.,   0.,   0., 198.,   0.,   0.,   0., 103.]),\n",
       " array([0. , 0.2, 0.4, 0.6, 0.8, 1. , 1.2, 1.4, 1.6, 1.8, 2. ]),\n",
       " <BarContainer object of 10 artists>)"
      ]
     },
     "execution_count": 137,
     "metadata": {},
     "output_type": "execute_result"
    },
    {
     "data": {
      "image/png": "[encoded data removed]",
      "text/plain": [
       "<Figure size 640x480 with 1 Axes>"
      ]
     },
     "metadata": {},
     "output_type": "display_data"
    }
   ],
   "source": [
    "#Approximate score\n",
    "plt.hist(x = data_students['score class'])"
   ]
  },
  {
   "cell_type": "code",
   "execution_count": 138,
   "id": "e2a51ec0",
   "metadata": {},
   "outputs": [
    {
     "data": {
      "application/vnd.plotly.v1+json": {
       "config": {
        "plotlyServerURL": "https://plot.ly"
       },
       "data": [
        {
         "branchvalues": "total",
         "domain": {
          "x": [
           0,
           1
          ],
          "y": [
           0,
           1
          ]
         },
         "hovertemplate": "labels=%{label}<br>count=%{value}<br>parent=%{parent}<br>id=%{id}<extra></extra>",
         "ids": [
          "A/female/associate's degree/group A",
          "B/female/associate's degree/group A",
          "C/female/associate's degree/group A",
          "A/male/associate's degree/group A",
          "B/male/associate's degree/group A",
          "C/male/associate's degree/group A",
          "B/female/bachelor's degree/group A",
          "A/male/bachelor's degree/group A",
          "B/male/bachelor's degree/group A",
          "A/female/high school/group A",
          "B/female/high school/group A",
          "C/female/high school/group A",
          "B/male/high school/group A",
          "C/male/high school/group A",
          "B/female/master's degree/group A",
          "B/male/master's degree/group A",
          "A/female/some college/group A",
          "B/female/some college/group A",
          "A/male/some college/group A",
          "B/male/some college/group A",
          "C/male/some college/group A",
          "A/female/some high school/group A",
          "B/female/some high school/group A",
          "C/female/some high school/group A",
          "B/male/some high school/group A",
          "C/male/some high school/group A",
          "A/female/associate's degree/group B",
          "B/female/associate's degree/group B",
          "C/female/associate's degree/group B",
          "A/male/associate's degree/group B",
          "B/male/associate's degree/group B",
          "C/male/associate's degree/group B",
          "A/female/bachelor's degree/group B",
          "B/female/bachelor's degree/group B",
          "A/male/bachelor's degree/group B",
          "B/male/bachelor's degree/group B",
          "C/male/bachelor's degree/group B",
          "A/female/high school/group B",
          "B/female/high school/group B",
          "C/female/high school/group B",
          "A/male/high school/group B",
          "B/male/high school/group B",
          "C/male/high school/group B",
          "A/female/master's degree/group B",
          "B/female/master's degree/group B",
          "B/male/master's degree/group B",
          "A/female/some college/group B",
          "B/female/some college/group B",
          "C/female/some college/group B",
          "A/male/some college/group B",
          "B/male/some college/group B",
          "C/male/some college/group B",
          "A/female/some high school/group B",
          "B/female/some high school/group B",
          "C/female/some high school/group B",
          "A/male/some high school/group B",
          "B/male/some high school/group B",
          "C/male/some high school/group B",
          "A/female/associate's degree/group C",
          "B/female/associate's degree/group C",
          "A/male/associate's degree/group C",
          "B/male/associate's degree/group C",
          "C/male/associate's degree/group C",
          "A/female/bachelor's degree/group C",
          "B/female/bachelor's degree/group C",
          "C/female/bachelor's degree/group C",
          "A/male/bachelor's degree/group C",
          "B/male/bachelor's degree/group C",
          "C/male/bachelor's degree/group C",
          "A/female/high school/group C",
          "B/female/high school/group C",
          "C/female/high school/group C",
          "A/male/high school/group C",
          "B/male/high school/group C",
          "C/male/high school/group C",
          "A/female/master's degree/group C",
          "B/female/master's degree/group C",
          "A/male/master's degree/group C",
          "B/male/master's degree/group C",
          "C/male/master's degree/group C",
          "A/female/some college/group C",
          "B/female/some college/group C",
          "C/female/some college/group C",
          "A/male/some college/group C",
          "B/male/some college/group C",
          "C/male/some college/group C",
          "A/female/some high school/group C",
          "B/female/some high school/group C",
          "C/female/some high school/group C",
          "B/male/some high school/group C",
          "C/male/some high school/group C",
          "A/female/associate's degree/group D",
          "B/female/associate's degree/group D",
          "C/female/associate's degree/group D",
          "A/male/associate's degree/group D",
          "B/male/associate's degree/group D",
          "C/male/associate's degree/group D",
          "A/female/bachelor's degree/group D",
          "B/female/bachelor's degree/group D",
          "C/female/bachelor's degree/group D",
          "A/male/bachelor's degree/group D",
          "B/male/bachelor's degree/group D",
          "C/male/bachelor's degree/group D",
          "A/female/high school/group D",
          "B/female/high school/group D",
          "C/female/high school/group D",
          "A/male/high school/group D",
          "B/male/high school/group D",
          "C/male/high school/group D",
          "A/female/master's degree/group D",
          "B/female/master's degree/group D",
          "A/male/master's degree/group D",
          "B/male/master's degree/group D",
          "A/female/some college/group D",
          "B/female/some college/group D",
          "A/male/some college/group D",
          "B/male/some college/group D",
          "C/male/some college/group D",
          "A/female/some high school/group D",
          "B/female/some high school/group D",
          "C/female/some high school/group D",
          "A/male/some high school/group D",
          "B/male/some high school/group D",
          "C/male/some high school/group D",
          "A/female/associate's degree/group E",
          "B/female/associate's degree/group E",
          "A/male/associate's degree/group E",
          "B/male/associate's degree/group E",
          "C/male/associate's degree/group E",
          "A/female/bachelor's degree/group E",
          "B/female/bachelor's degree/group E",
          "C/female/bachelor's degree/group E",
          "A/male/bachelor's degree/group E",
          "B/male/bachelor's degree/group E",
          "A/female/high school/group E",
          "B/female/high school/group E",
          "C/female/high school/group E",
          "A/male/high school/group E",
          "B/male/high school/group E",
          "A/female/master's degree/group E",
          "B/female/master's degree/group E",
          "A/male/master's degree/group E",
          "A/female/some college/group E",
          "B/female/some college/group E",
          "A/male/some college/group E",
          "B/male/some college/group E",
          "A/female/some high school/group E",
          "B/female/some high school/group E",
          "C/female/some high school/group E",
          "A/male/some high school/group E",
          "B/male/some high school/group E",
          "C/male/some high school/group E",
          "A/female/associate's degree",
          "B/female/associate's degree",
          "C/female/associate's degree",
          "A/male/associate's degree",
          "B/male/associate's degree",
          "C/male/associate's degree",
          "A/female/bachelor's degree",
          "B/female/bachelor's degree",
          "C/female/bachelor's degree",
          "A/male/bachelor's degree",
          "B/male/bachelor's degree",
          "C/male/bachelor's degree",
          "A/female/high school",
          "B/female/high school",
          "C/female/high school",
          "A/male/high school",
          "B/male/high school",
          "C/male/high school",
          "A/female/master's degree",
          "B/female/master's degree",
          "A/male/master's degree",
          "B/male/master's degree",
          "C/male/master's degree",
          "A/female/some college",
          "B/female/some college",
          "C/female/some college",
          "A/male/some college",
          "B/male/some college",
          "C/male/some college",
          "A/female/some high school",
          "B/female/some high school",
          "C/female/some high school",
          "A/male/some high school",
          "B/male/some high school",
          "C/male/some high school",
          "A/female",
          "B/female",
          "C/female",
          "A/male",
          "B/male",
          "C/male",
          "A",
          "B",
          "C"
         ],
         "labels": [
          "group A",
          "group A",
          "group A",
          "group A",
          "group A",
          "group A",
          "group A",
          "group A",
          "group A",
          "group A",
          "group A",
          "group A",
          "group A",
          "group A",
          "group A",
          "group A",
          "group A",
          "group A",
          "group A",
          "group A",
          "group A",
          "group A",
          "group A",
          "group A",
          "group A",
          "group A",
          "group B",
          "group B",
          "group B",
          "group B",
          "group B",
          "group B",
          "group B",
          "group B",
          "group B",
          "group B",
          "group B",
          "group B",
          "group B",
          "group B",
          "group B",
          "group B",
          "group B",
          "group B",
          "group B",
          "group B",
          "group B",
          "group B",
          "group B",
          "group B",
          "group B",
          "group B",
          "group B",
          "group B",
          "group B",
          "group B",
          "group B",
          "group B",
          "group C",
          "group C",
          "group C",
          "group C",
          "group C",
          "group C",
          "group C",
          "group C",
          "group C",
          "group C",
          "group C",
          "group C",
          "group C",
          "group C",
          "group C",
          "group C",
          "group C",
          "group C",
          "group C",
          "group C",
          "group C",
          "group C",
          "group C",
          "group C",
          "group C",
          "group C",
          "group C",
          "group C",
          "group C",
          "group C",
          "group C",
          "group C",
          "group C",
          "group D",
          "group D",
          "group D",
          "group D",
          "group D",
          "group D",
          "group D",
          "group D",
          "group D",
          "group D",
          "group D",
          "group D",
          "group D",
          "group D",
          "group D",
          "group D",
          "group D",
          "group D",
          "group D",
          "group D",
          "group D",
          "group D",
          "group D",
          "group D",
          "group D",
          "group D",
          "group D",
          "group D",
          "group D",
          "group D",
          "group D",
          "group D",
          "group D",
          "group E",
          "group E",
          "group E",
          "group E",
          "group E",
          "group E",
          "group E",
          "group E",
          "group E",
          "group E",
          "group E",
          "group E",
          "group E",
          "group E",
          "group E",
          "group E",
          "group E",
          "group E",
          "group E",
          "group E",
          "group E",
          "group E",
          "group E",
          "group E",
          "group E",
          "group E",
          "group E",
          "group E",
          "associate's degree",
          "associate's degree",
          "associate's degree",
          "associate's degree",
          "associate's degree",
          "associate's degree",
          "bachelor's degree",
          "bachelor's degree",
          "bachelor's degree",
          "bachelor's degree",
          "bachelor's degree",
          "bachelor's degree",
          "high school",
          "high school",
          "high school",
          "high school",
          "high school",
          "high school",
          "master's degree",
          "master's degree",
          "master's degree",
          "master's degree",
          "master's degree",
          "some college",
          "some college",
          "some college",
          "some college",
          "some college",
          "some college",
          "some high school",
          "some high school",
          "some high school",
          "some high school",
          "some high school",
          "some high school",
          "female",
          "female",
          "female",
          "male",
          "male",
          "male",
          "A",
          "B",
          "C"
         ],
         "name": "",
         "parents": [
          "A/female/associate's degree",
          "B/female/associate's degree",
          "C/female/associate's degree",
          "A/male/associate's degree",
          "B/male/associate's degree",
          "C/male/associate's degree",
          "B/female/bachelor's degree",
          "A/male/bachelor's degree",
          "B/male/bachelor's degree",
          "A/female/high school",
          "B/female/high school",
          "C/female/high school",
          "B/male/high school",
          "C/male/high school",
          "B/female/master's degree",
          "B/male/master's degree",
          "A/female/some college",
          "B/female/some college",
          "A/male/some college",
          "B/male/some college",
          "C/male/some college",
          "A/female/some high school",
          "B/female/some high school",
          "C/female/some high school",
          "B/male/some high school",
          "C/male/some high school",
          "A/female/associate's degree",
          "B/female/associate's degree",
          "C/female/associate's degree",
          "A/male/associate's degree",
          "B/male/associate's degree",
          "C/male/associate's degree",
          "A/female/bachelor's degree",
          "B/female/bachelor's degree",
          "A/male/bachelor's degree",
          "B/male/bachelor's degree",
          "C/male/bachelor's degree",
          "A/female/high school",
          "B/female/high school",
          "C/female/high school",
          "A/male/high school",
          "B/male/high school",
          "C/male/high school",
          "A/female/master's degree",
          "B/female/master's degree",
          "B/male/master's degree",
          "A/female/some college",
          "B/female/some college",
          "C/female/some college",
          "A/male/some college",
          "B/male/some college",
          "C/male/some college",
          "A/female/some high school",
          "B/female/some high school",
          "C/female/some high school",
          "A/male/some high school",
          "B/male/some high school",
          "C/male/some high school",
          "A/female/associate's degree",
          "B/female/associate's degree",
          "A/male/associate's degree",
          "B/male/associate's degree",
          "C/male/associate's degree",
          "A/female/bachelor's degree",
          "B/female/bachelor's degree",
          "C/female/bachelor's degree",
          "A/male/bachelor's degree",
          "B/male/bachelor's degree",
          "C/male/bachelor's degree",
          "A/female/high school",
          "B/female/high school",
          "C/female/high school",
          "A/male/high school",
          "B/male/high school",
          "C/male/high school",
          "A/female/master's degree",
          "B/female/master's degree",
          "A/male/master's degree",
          "B/male/master's degree",
          "C/male/master's degree",
          "A/female/some college",
          "B/female/some college",
          "C/female/some college",
          "A/male/some college",
          "B/male/some college",
          "C/male/some college",
          "A/female/some high school",
          "B/female/some high school",
          "C/female/some high school",
          "B/male/some high school",
          "C/male/some high school",
          "A/female/associate's degree",
          "B/female/associate's degree",
          "C/female/associate's degree",
          "A/male/associate's degree",
          "B/male/associate's degree",
          "C/male/associate's degree",
          "A/female/bachelor's degree",
          "B/female/bachelor's degree",
          "C/female/bachelor's degree",
          "A/male/bachelor's degree",
          "B/male/bachelor's degree",
          "C/male/bachelor's degree",
          "A/female/high school",
          "B/female/high school",
          "C/female/high school",
          "A/male/high school",
          "B/male/high school",
          "C/male/high school",
          "A/female/master's degree",
          "B/female/master's degree",
          "A/male/master's degree",
          "B/male/master's degree",
          "A/female/some college",
          "B/female/some college",
          "A/male/some college",
          "B/male/some college",
          "C/male/some college",
          "A/female/some high school",
          "B/female/some high school",
          "C/female/some high school",
          "A/male/some high school",
          "B/male/some high school",
          "C/male/some high school",
          "A/female/associate's degree",
          "B/female/associate's degree",
          "A/male/associate's degree",
          "B/male/associate's degree",
          "C/male/associate's degree",
          "A/female/bachelor's degree",
          "B/female/bachelor's degree",
          "C/female/bachelor's degree",
          "A/male/bachelor's degree",
          "B/male/bachelor's degree",
          "A/female/high school",
          "B/female/high school",
          "C/female/high school",
          "A/male/high school",
          "B/male/high school",
          "A/female/master's degree",
          "B/female/master's degree",
          "A/male/master's degree",
          "A/female/some college",
          "B/female/some college",
          "A/male/some college",
          "B/male/some college",
          "A/female/some high school",
          "B/female/some high school",
          "C/female/some high school",
          "A/male/some high school",
          "B/male/some high school",
          "C/male/some high school",
          "A/female",
          "B/female",
          "C/female",
          "A/male",
          "B/male",
          "C/male",
          "A/female",
          "B/female",
          "C/female",
          "A/male",
          "B/male",
          "C/male",
          "A/female",
          "B/female",
          "C/female",
          "A/male",
          "B/male",
          "C/male",
          "A/female",
          "B/female",
          "A/male",
          "B/male",
          "C/male",
          "A/female",
          "B/female",
          "C/female",
          "A/male",
          "B/male",
          "C/male",
          "A/female",
          "B/female",
          "C/female",
          "A/male",
          "B/male",
          "C/male",
          "A",
          "B",
          "C",
          "A",
          "B",
          "C",
          "",
          "",
          ""
         ],
         "type": "treemap",
         "values": [
          1,
          4,
          1,
          2,
          4,
          2,
          3,
          2,
          7,
          1,
          5,
          1,
          8,
          3,
          2,
          1,
          1,
          7,
          2,
          6,
          2,
          2,
          6,
          2,
          9,
          5,
          4,
          17,
          2,
          5,
          10,
          3,
          3,
          8,
          1,
          7,
          1,
          5,
          19,
          4,
          1,
          13,
          6,
          3,
          2,
          1,
          3,
          11,
          1,
          3,
          16,
          3,
          2,
          15,
          5,
          5,
          9,
          2,
          8,
          37,
          6,
          23,
          4,
          9,
          16,
          1,
          5,
          8,
          1,
          2,
          22,
          6,
          3,
          28,
          3,
          1,
          6,
          1,
          10,
          1,
          11,
          30,
          3,
          4,
          16,
          5,
          5,
          19,
          4,
          17,
          4,
          6,
          17,
          1,
          4,
          21,
          1,
          4,
          8,
          1,
          1,
          11,
          3,
          2,
          14,
          1,
          2,
          18,
          7,
          5,
          10,
          5,
          3,
          9,
          26,
          5,
          26,
          1,
          6,
          18,
          1,
          4,
          18,
          3,
          9,
          9,
          6,
          12,
          3,
          5,
          4,
          1,
          1,
          7,
          2,
          8,
          2,
          2,
          8,
          4,
          3,
          1,
          4,
          12,
          4,
          15,
          1,
          3,
          2,
          5,
          6,
          1,
          28,
          84,
          4,
          23,
          70,
          13,
          21,
          39,
          3,
          10,
          40,
          5,
          12,
          68,
          14,
          8,
          75,
          19,
          13,
          23,
          7,
          15,
          1,
          28,
          86,
          4,
          18,
          79,
          11,
          16,
          61,
          14,
          14,
          59,
          15,
          118,
          361,
          39,
          80,
          338,
          64,
          198,
          699,
          103
         ]
        }
       ],
       "layout": {
        "legend": {
         "tracegroupgap": 0
        },
        "margin": {
         "t": 60
        },
        "template": {
         "data": {
          "bar": [
           {
            "error_x": {
             "color": "#2a3f5f"
            },
            "error_y": {
             "color": "#2a3f5f"
            },
            "marker": {
             "line": {
              "color": "#E5ECF6",
              "width": 0.5
             },
             "pattern": {
              "fillmode": "overlay",
              "size": 10,
              "solidity": 0.2
             }
            },
            "type": "bar"
           }
          ],
          "barpolar": [
           {
            "marker": {
             "line": {
              "color": "#E5ECF6",
              "width": 0.5
             },
             "pattern": {
              "fillmode": "overlay",
              "size": 10,
              "solidity": 0.2
             }
            },
            "type": "barpolar"
           }
          ],
          "carpet": [
           {
            "aaxis": {
             "endlinecolor": "#2a3f5f",
             "gridcolor": "white",
             "linecolor": "white",
             "minorgridcolor": "white",
             "startlinecolor": "#2a3f5f"
            },
            "baxis": {
             "endlinecolor": "#2a3f5f",
             "gridcolor": "white",
             "linecolor": "white",
             "minorgridcolor": "white",
             "startlinecolor": "#2a3f5f"
            },
            "type": "carpet"
           }
          ],
          "choropleth": [
           {
            "colorbar": {
             "outlinewidth": 0,
             "ticks": ""
            },
            "type": "choropleth"
           }
          ],
          "contour": [
           {
            "colorbar": {
             "outlinewidth": 0,
             "ticks": ""
            },
            "colorscale": [
             [
              0,
              "#0d0887"
             ],
             [
              0.1111111111111111,
              "#46039f"
             ],
             [
              0.2222222222222222,
              "#7201a8"
             ],
             [
              0.3333333333333333,
              "#9c179e"
             ],
             [
              0.4444444444444444,
              "#bd3786"
             ],
             [
              0.5555555555555556,
              "#d8576b"
             ],
             [
              0.6666666666666666,
              "#ed7953"
             ],
             [
              0.7777777777777778,
              "#fb9f3a"
             ],
             [
              0.8888888888888888,
              "#fdca26"
             ],
             [
              1,
              "#f0f921"
             ]
            ],
            "type": "contour"
           }
          ],
          "contourcarpet": [
           {
            "colorbar": {
             "outlinewidth": 0,
             "ticks": ""
            },
            "type": "contourcarpet"
           }
          ],
          "heatmap": [
           {
            "colorbar": {
             "outlinewidth": 0,
             "ticks": ""
            },
            "colorscale": [
             [
              0,
              "#0d0887"
             ],
             [
              0.1111111111111111,
              "#46039f"
             ],
             [
              0.2222222222222222,
              "#7201a8"
             ],
             [
              0.3333333333333333,
              "#9c179e"
             ],
             [
              0.4444444444444444,
              "#bd3786"
             ],
             [
              0.5555555555555556,
              "#d8576b"
             ],
             [
              0.6666666666666666,
              "#ed7953"
             ],
             [
              0.7777777777777778,
              "#fb9f3a"
             ],
             [
              0.8888888888888888,
              "#fdca26"
             ],
             [
              1,
              "#f0f921"
             ]
            ],
            "type": "heatmap"
           }
          ],
          "heatmapgl": [
           {
            "colorbar": {
             "outlinewidth": 0,
             "ticks": ""
            },
            "colorscale": [
             [
              0,
              "#0d0887"
             ],
             [
              0.1111111111111111,
              "#46039f"
             ],
             [
              0.2222222222222222,
              "#7201a8"
             ],
             [
              0.3333333333333333,
              "#9c179e"
             ],
             [
              0.4444444444444444,
              "#bd3786"
             ],
             [
              0.5555555555555556,
              "#d8576b"
             ],
             [
              0.6666666666666666,
              "#ed7953"
             ],
             [
              0.7777777777777778,
              "#fb9f3a"
             ],
             [
              0.8888888888888888,
              "#fdca26"
             ],
             [
              1,
              "#f0f921"
             ]
            ],
            "type": "heatmapgl"
           }
          ],
          "histogram": [
           {
            "marker": {
             "pattern": {
              "fillmode": "overlay",
              "size": 10,
              "solidity": 0.2
             }
            },
            "type": "histogram"
           }
          ],
          "histogram2d": [
           {
            "colorbar": {
             "outlinewidth": 0,
             "ticks": ""
            },
            "colorscale": [
             [
              0,
              "#0d0887"
             ],
             [
              0.1111111111111111,
              "#46039f"
             ],
             [
              0.2222222222222222,
              "#7201a8"
             ],
             [
              0.3333333333333333,
              "#9c179e"
             ],
             [
              0.4444444444444444,
              "#bd3786"
             ],
             [
              0.5555555555555556,
              "#d8576b"
             ],
             [
              0.6666666666666666,
              "#ed7953"
             ],
             [
              0.7777777777777778,
              "#fb9f3a"
             ],
             [
              0.8888888888888888,
              "#fdca26"
             ],
             [
              1,
              "#f0f921"
             ]
            ],
            "type": "histogram2d"
           }
          ],
          "histogram2dcontour": [
           {
            "colorbar": {
             "outlinewidth": 0,
             "ticks": ""
            },
            "colorscale": [
             [
              0,
              "#0d0887"
             ],
             [
              0.1111111111111111,
              "#46039f"
             ],
             [
              0.2222222222222222,
              "#7201a8"
             ],
             [
              0.3333333333333333,
              "#9c179e"
             ],
             [
              0.4444444444444444,
              "#bd3786"
             ],
             [
              0.5555555555555556,
              "#d8576b"
             ],
             [
              0.6666666666666666,
              "#ed7953"
             ],
             [
              0.7777777777777778,
              "#fb9f3a"
             ],
             [
              0.8888888888888888,
              "#fdca26"
             ],
             [
              1,
              "#f0f921"
             ]
            ],
            "type": "histogram2dcontour"
           }
          ],
          "mesh3d": [
           {
            "colorbar": {
             "outlinewidth": 0,
             "ticks": ""
            },
            "type": "mesh3d"
           }
          ],
          "parcoords": [
           {
            "line": {
             "colorbar": {
              "outlinewidth": 0,
              "ticks": ""
             }
            },
            "type": "parcoords"
           }
          ],
          "pie": [
           {
            "automargin": true,
            "type": "pie"
           }
          ],
          "scatter": [
           {
            "fillpattern": {
             "fillmode": "overlay",
             "size": 10,
             "solidity": 0.2
            },
            "type": "scatter"
           }
          ],
          "scatter3d": [
           {
            "line": {
             "colorbar": {
              "outlinewidth": 0,
              "ticks": ""
             }
            },
            "marker": {
             "colorbar": {
              "outlinewidth": 0,
              "ticks": ""
             }
            },
            "type": "scatter3d"
           }
          ],
          "scattercarpet": [
           {
            "marker": {
             "colorbar": {
              "outlinewidth": 0,
              "ticks": ""
             }
            },
            "type": "scattercarpet"
           }
          ],
          "scattergeo": [
           {
            "marker": {
             "colorbar": {
              "outlinewidth": 0,
              "ticks": ""
             }
            },
            "type": "scattergeo"
           }
          ],
          "scattergl": [
           {
            "marker": {
             "colorbar": {
              "outlinewidth": 0,
              "ticks": ""
             }
            },
            "type": "scattergl"
           }
          ],
          "scattermapbox": [
           {
            "marker": {
             "colorbar": {
              "outlinewidth": 0,
              "ticks": ""
             }
            },
            "type": "scattermapbox"
           }
          ],
          "scatterpolar": [
           {
            "marker": {
             "colorbar": {
              "outlinewidth": 0,
              "ticks": ""
             }
            },
            "type": "scatterpolar"
           }
          ],
          "scatterpolargl": [
           {
            "marker": {
             "colorbar": {
              "outlinewidth": 0,
              "ticks": ""
             }
            },
            "type": "scatterpolargl"
           }
          ],
          "scatterternary": [
           {
            "marker": {
             "colorbar": {
              "outlinewidth": 0,
              "ticks": ""
             }
            },
            "type": "scatterternary"
           }
          ],
          "surface": [
           {
            "colorbar": {
             "outlinewidth": 0,
             "ticks": ""
            },
            "colorscale": [
             [
              0,
              "#0d0887"
             ],
             [
              0.1111111111111111,
              "#46039f"
             ],
             [
              0.2222222222222222,
              "#7201a8"
             ],
             [
              0.3333333333333333,
              "#9c179e"
             ],
             [
              0.4444444444444444,
              "#bd3786"
             ],
             [
              0.5555555555555556,
              "#d8576b"
             ],
             [
              0.6666666666666666,
              "#ed7953"
             ],
             [
              0.7777777777777778,
              "#fb9f3a"
             ],
             [
              0.8888888888888888,
              "#fdca26"
             ],
             [
              1,
              "#f0f921"
             ]
            ],
            "type": "surface"
           }
          ],
          "table": [
           {
            "cells": {
             "fill": {
              "color": "#EBF0F8"
             },
             "line": {
              "color": "white"
             }
            },
            "header": {
             "fill": {
              "color": "#C8D4E3"
             },
             "line": {
              "color": "white"
             }
            },
            "type": "table"
           }
          ]
         },
         "layout": {
          "annotationdefaults": {
           "arrowcolor": "#2a3f5f",
           "arrowhead": 0,
           "arrowwidth": 1
          },
          "autotypenumbers": "strict",
          "coloraxis": {
           "colorbar": {
            "outlinewidth": 0,
            "ticks": ""
           }
          },
          "colorscale": {
           "diverging": [
            [
             0,
             "#8e0152"
            ],
            [
             0.1,
             "#c51b7d"
            ],
            [
             0.2,
             "#de77ae"
            ],
            [
             0.3,
             "#f1b6da"
            ],
            [
             0.4,
             "#fde0ef"
            ],
            [
             0.5,
             "#f7f7f7"
            ],
            [
             0.6,
             "#e6f5d0"
            ],
            [
             0.7,
             "#b8e186"
            ],
            [
             0.8,
             "#7fbc41"
            ],
            [
             0.9,
             "#4d9221"
            ],
            [
             1,
             "#276419"
            ]
           ],
           "sequential": [
            [
             0,
             "#0d0887"
            ],
            [
             0.1111111111111111,
             "#46039f"
            ],
            [
             0.2222222222222222,
             "#7201a8"
            ],
            [
             0.3333333333333333,
             "#9c179e"
            ],
            [
             0.4444444444444444,
             "#bd3786"
            ],
            [
             0.5555555555555556,
             "#d8576b"
            ],
            [
             0.6666666666666666,
             "#ed7953"
            ],
            [
             0.7777777777777778,
             "#fb9f3a"
            ],
            [
             0.8888888888888888,
             "#fdca26"
            ],
            [
             1,
             "#f0f921"
            ]
           ],
           "sequentialminus": [
            [
             0,
             "#0d0887"
            ],
            [
             0.1111111111111111,
             "#46039f"
            ],
            [
             0.2222222222222222,
             "#7201a8"
            ],
            [
             0.3333333333333333,
             "#9c179e"
            ],
            [
             0.4444444444444444,
             "#bd3786"
            ],
            [
             0.5555555555555556,
             "#d8576b"
            ],
            [
             0.6666666666666666,
             "#ed7953"
            ],
            [
             0.7777777777777778,
             "#fb9f3a"
            ],
            [
             0.8888888888888888,
             "#fdca26"
            ],
            [
             1,
             "#f0f921"
            ]
           ]
          },
          "colorway": [
           "#636efa",
           "#EF553B",
           "#00cc96",
           "#ab63fa",
           "#FFA15A",
           "#19d3f3",
           "#FF6692",
           "#B6E880",
           "#FF97FF",
           "#FECB52"
          ],
          "font": {
           "color": "#2a3f5f"
          },
          "geo": {
           "bgcolor": "white",
           "lakecolor": "white",
           "landcolor": "#E5ECF6",
           "showlakes": true,
           "showland": true,
           "subunitcolor": "white"
          },
          "hoverlabel": {
           "align": "left"
          },
          "hovermode": "closest",
          "mapbox": {
           "style": "light"
          },
          "paper_bgcolor": "white",
          "plot_bgcolor": "#E5ECF6",
          "polar": {
           "angularaxis": {
            "gridcolor": "white",
            "linecolor": "white",
            "ticks": ""
           },
           "bgcolor": "#E5ECF6",
           "radialaxis": {
            "gridcolor": "white",
            "linecolor": "white",
            "ticks": ""
           }
          },
          "scene": {
           "xaxis": {
            "backgroundcolor": "#E5ECF6",
            "gridcolor": "white",
            "gridwidth": 2,
            "linecolor": "white",
            "showbackground": true,
            "ticks": "",
            "zerolinecolor": "white"
           },
           "yaxis": {
            "backgroundcolor": "#E5ECF6",
            "gridcolor": "white",
            "gridwidth": 2,
            "linecolor": "white",
            "showbackground": true,
            "ticks": "",
            "zerolinecolor": "white"
           },
           "zaxis": {
            "backgroundcolor": "#E5ECF6",
            "gridcolor": "white",
            "gridwidth": 2,
            "linecolor": "white",
            "showbackground": true,
            "ticks": "",
            "zerolinecolor": "white"
           }
          },
          "shapedefaults": {
           "line": {
            "color": "#2a3f5f"
           }
          },
          "ternary": {
           "aaxis": {
            "gridcolor": "white",
            "linecolor": "white",
            "ticks": ""
           },
           "baxis": {
            "gridcolor": "white",
            "linecolor": "white",
            "ticks": ""
           },
           "bgcolor": "#E5ECF6",
           "caxis": {
            "gridcolor": "white",
            "linecolor": "white",
            "ticks": ""
           }
          },
          "title": {
           "x": 0.05
          },
          "xaxis": {
           "automargin": true,
           "gridcolor": "white",
           "linecolor": "white",
           "ticks": "",
           "title": {
            "standoff": 15
           },
           "zerolinecolor": "white",
           "zerolinewidth": 2
          },
          "yaxis": {
           "automargin": true,
           "gridcolor": "white",
           "linecolor": "white",
           "ticks": "",
           "title": {
            "standoff": 15
           },
           "zerolinecolor": "white",
           "zerolinewidth": 2
          }
         }
        }
       }
      }
     },
     "metadata": {},
     "output_type": "display_data"
    }
   ],
   "source": [
    "graphic = px.treemap(data_students, path = ['score class', 'gender', 'parental level of education', 'race/ethnicity'])\n",
    "graphic.show()"
   ]
  },
  {
   "cell_type": "markdown",
   "id": "5ba336ce",
   "metadata": {},
   "source": [
    "### Predictor division and class"
   ]
  },
  {
   "cell_type": "code",
   "execution_count": 141,
   "id": "a8561b3d",
   "metadata": {},
   "outputs": [],
   "source": [
    "#Separing predictors and ignoring math score, reading score and writing score columns\n",
    "X_students = data_students.iloc[:, 0:8].values"
   ]
  },
  {
   "cell_type": "code",
   "execution_count": 142,
   "id": "04763fc6",
   "metadata": {},
   "outputs": [
    {
     "data": {
      "text/plain": [
       "array([['female', 'group B', \"bachelor's degree\", ..., 72, 72, 74],\n",
       "       ['female', 'group C', 'some college', ..., 69, 90, 88],\n",
       "       ['female', 'group B', \"master's degree\", ..., 90, 95, 93],\n",
       "       ...,\n",
       "       ['female', 'group C', 'high school', ..., 59, 71, 65],\n",
       "       ['female', 'group D', 'some college', ..., 68, 78, 77],\n",
       "       ['female', 'group D', 'some college', ..., 77, 86, 86]],\n",
       "      dtype=object)"
      ]
     },
     "execution_count": 142,
     "metadata": {},
     "output_type": "execute_result"
    }
   ],
   "source": [
    "X_students"
   ]
  },
  {
   "cell_type": "code",
   "execution_count": 143,
   "id": "d35d4deb",
   "metadata": {},
   "outputs": [],
   "source": [
    "# Average score is the target class\n",
    "Y_students = data_students.iloc[:, 8].values"
   ]
  },
  {
   "cell_type": "code",
   "execution_count": 144,
   "id": "f68b1be7",
   "metadata": {},
   "outputs": [
    {
     "data": {
      "text/plain": [
       "array(['B', 'A', 'A', 'C', 'B', 'B', 'A', 'C', 'B', 'C', 'B', 'C', 'B',\n",
       "       'B', 'B', 'B', 'A', 'C', 'C', 'B', 'B', 'B', 'B', 'B', 'B', 'B',\n",
       "       'B', 'B', 'B', 'B', 'B', 'B', 'B', 'C', 'A', 'A', 'B', 'B', 'A',\n",
       "       'B', 'B', 'B', 'B', 'B', 'B', 'B', 'B', 'B', 'B', 'A', 'B', 'B',\n",
       "       'C', 'A', 'A', 'C', 'A', 'B', 'B', 'C', 'B', 'C', 'B', 'B', 'B',\n",
       "       'B', 'C', 'B', 'B', 'B', 'B', 'B', 'C', 'B', 'C', 'C', 'C', 'B',\n",
       "       'B', 'B', 'C', 'C', 'B', 'B', 'C', 'B', 'A', 'B', 'B', 'A', 'B',\n",
       "       'C', 'B', 'C', 'A', 'A', 'B', 'B', 'B', 'B', 'B', 'B', 'A', 'B',\n",
       "       'A', 'B', 'A', 'B', 'B', 'B', 'A', 'B', 'B', 'B', 'A', 'B', 'A',\n",
       "       'B', 'B', 'B', 'A', 'A', 'A', 'B', 'B', 'A', 'B', 'B', 'B', 'B',\n",
       "       'A', 'C', 'B', 'A', 'B', 'B', 'C', 'B', 'B', 'B', 'B', 'B', 'B',\n",
       "       'C', 'B', 'C', 'A', 'B', 'B', 'A', 'B', 'B', 'B', 'B', 'B', 'A',\n",
       "       'B', 'B', 'B', 'B', 'B', 'A', 'B', 'B', 'A', 'A', 'B', 'B', 'B',\n",
       "       'B', 'B', 'A', 'A', 'B', 'C', 'A', 'B', 'B', 'B', 'A', 'B', 'B',\n",
       "       'C', 'B', 'C', 'B', 'B', 'B', 'C', 'A', 'B', 'B', 'B', 'B', 'B',\n",
       "       'B', 'B', 'B', 'B', 'B', 'B', 'B', 'B', 'B', 'C', 'B', 'B', 'B',\n",
       "       'B', 'B', 'B', 'C', 'B', 'B', 'A', 'A', 'A', 'C', 'B', 'B', 'B',\n",
       "       'A', 'B', 'A', 'B', 'B', 'B', 'B', 'B', 'A', 'B', 'C', 'B', 'A',\n",
       "       'A', 'B', 'B', 'B', 'B', 'A', 'B', 'A', 'B', 'B', 'B', 'B', 'B',\n",
       "       'B', 'B', 'B', 'C', 'B', 'B', 'B', 'B', 'B', 'B', 'B', 'B', 'B',\n",
       "       'B', 'B', 'C', 'A', 'B', 'C', 'B', 'B', 'A', 'B', 'B', 'C', 'B',\n",
       "       'B', 'A', 'B', 'A', 'B', 'B', 'B', 'C', 'C', 'B', 'B', 'C', 'A',\n",
       "       'A', 'B', 'B', 'B', 'B', 'B', 'B', 'B', 'B', 'B', 'C', 'B', 'C',\n",
       "       'A', 'A', 'B', 'B', 'B', 'B', 'B', 'A', 'C', 'B', 'B', 'B', 'B',\n",
       "       'B', 'B', 'B', 'B', 'A', 'B', 'B', 'B', 'B', 'A', 'B', 'C', 'C',\n",
       "       'A', 'B', 'C', 'B', 'C', 'B', 'C', 'B', 'A', 'A', 'B', 'B', 'C',\n",
       "       'C', 'B', 'B', 'B', 'B', 'B', 'B', 'B', 'B', 'A', 'B', 'B', 'B',\n",
       "       'B', 'B', 'B', 'B', 'B', 'B', 'B', 'B', 'A', 'B', 'A', 'B', 'C',\n",
       "       'B', 'B', 'B', 'B', 'B', 'A', 'B', 'B', 'B', 'A', 'B', 'C', 'A',\n",
       "       'A', 'B', 'B', 'A', 'A', 'B', 'C', 'C', 'B', 'B', 'B', 'B', 'B',\n",
       "       'B', 'B', 'B', 'B', 'B', 'C', 'B', 'A', 'B', 'B', 'B', 'C', 'B',\n",
       "       'A', 'B', 'B', 'B', 'B', 'B', 'A', 'B', 'A', 'B', 'B', 'B', 'B',\n",
       "       'B', 'B', 'B', 'B', 'A', 'B', 'B', 'B', 'C', 'B', 'A', 'B', 'B',\n",
       "       'B', 'B', 'B', 'B', 'B', 'B', 'B', 'B', 'B', 'B', 'A', 'B', 'B',\n",
       "       'B', 'B', 'B', 'B', 'B', 'A', 'C', 'B', 'B', 'A', 'B', 'B', 'B',\n",
       "       'C', 'A', 'B', 'A', 'B', 'B', 'B', 'B', 'A', 'B', 'A', 'C', 'B',\n",
       "       'A', 'A', 'A', 'B', 'B', 'B', 'A', 'B', 'B', 'B', 'B', 'B', 'B',\n",
       "       'B', 'B', 'B', 'B', 'B', 'B', 'B', 'B', 'A', 'B', 'B', 'A', 'A',\n",
       "       'B', 'B', 'B', 'B', 'B', 'B', 'B', 'A', 'B', 'A', 'B', 'A', 'B',\n",
       "       'B', 'B', 'A', 'B', 'B', 'B', 'B', 'A', 'A', 'A', 'B', 'B', 'B',\n",
       "       'B', 'A', 'B', 'B', 'B', 'B', 'B', 'C', 'C', 'B', 'B', 'B', 'B',\n",
       "       'A', 'B', 'B', 'B', 'B', 'B', 'A', 'B', 'A', 'B', 'A', 'B', 'A',\n",
       "       'A', 'B', 'B', 'B', 'B', 'A', 'C', 'B', 'C', 'C', 'B', 'B', 'B',\n",
       "       'B', 'B', 'B', 'A', 'B', 'C', 'C', 'A', 'B', 'B', 'B', 'B', 'A',\n",
       "       'B', 'B', 'B', 'C', 'B', 'A', 'B', 'B', 'A', 'B', 'B', 'B', 'B',\n",
       "       'B', 'B', 'B', 'B', 'B', 'B', 'B', 'B', 'B', 'A', 'B', 'C', 'B',\n",
       "       'B', 'B', 'B', 'C', 'B', 'B', 'A', 'B', 'A', 'B', 'B', 'B', 'B',\n",
       "       'B', 'A', 'B', 'A', 'B', 'C', 'A', 'A', 'B', 'B', 'B', 'B', 'A',\n",
       "       'B', 'A', 'B', 'B', 'B', 'B', 'B', 'B', 'B', 'A', 'A', 'B', 'B',\n",
       "       'A', 'B', 'B', 'C', 'A', 'B', 'B', 'B', 'B', 'B', 'B', 'B', 'B',\n",
       "       'B', 'B', 'A', 'B', 'B', 'B', 'B', 'B', 'B', 'A', 'B', 'B', 'B',\n",
       "       'B', 'B', 'B', 'B', 'A', 'B', 'B', 'B', 'B', 'B', 'B', 'B', 'B',\n",
       "       'B', 'B', 'B', 'B', 'B', 'B', 'B', 'C', 'B', 'A', 'B', 'B', 'B',\n",
       "       'A', 'B', 'B', 'B', 'B', 'B', 'A', 'A', 'B', 'B', 'B', 'A', 'B',\n",
       "       'A', 'B', 'B', 'B', 'C', 'B', 'A', 'B', 'A', 'A', 'A', 'A', 'B',\n",
       "       'A', 'B', 'A', 'B', 'A', 'B', 'B', 'A', 'C', 'C', 'B', 'B', 'B',\n",
       "       'A', 'C', 'B', 'C', 'A', 'C', 'B', 'B', 'A', 'B', 'B', 'B', 'B',\n",
       "       'B', 'A', 'B', 'B', 'B', 'B', 'B', 'B', 'A', 'B', 'B', 'B', 'A',\n",
       "       'B', 'A', 'B', 'B', 'B', 'B', 'B', 'B', 'A', 'B', 'B', 'B', 'B',\n",
       "       'B', 'B', 'B', 'C', 'B', 'B', 'B', 'B', 'B', 'B', 'C', 'B', 'A',\n",
       "       'B', 'A', 'A', 'B', 'A', 'C', 'B', 'C', 'B', 'B', 'B', 'B', 'B',\n",
       "       'A', 'C', 'B', 'B', 'B', 'B', 'B', 'B', 'B', 'A', 'A', 'B', 'B',\n",
       "       'B', 'C', 'B', 'B', 'C', 'C', 'B', 'A', 'B', 'A', 'B', 'B', 'B',\n",
       "       'A', 'A', 'A', 'B', 'A', 'B', 'B', 'B', 'B', 'B', 'B', 'B', 'A',\n",
       "       'B', 'A', 'B', 'B', 'B', 'B', 'B', 'B', 'C', 'B', 'C', 'B', 'B',\n",
       "       'A', 'A', 'B', 'B', 'B', 'B', 'B', 'A', 'B', 'B', 'A', 'B', 'B',\n",
       "       'C', 'B', 'B', 'A', 'C', 'B', 'A', 'A', 'B', 'C', 'B', 'B', 'B',\n",
       "       'B', 'A', 'A', 'B', 'B', 'A', 'B', 'B', 'B', 'B', 'B', 'B', 'C',\n",
       "       'B', 'B', 'A', 'B', 'B', 'C', 'A', 'A', 'B', 'B', 'B', 'C', 'C',\n",
       "       'B', 'B', 'B', 'A', 'B', 'C', 'A', 'B', 'A', 'B', 'A', 'B', 'B',\n",
       "       'C', 'B', 'B', 'B', 'B', 'B', 'A', 'B', 'B', 'A', 'B', 'C', 'B',\n",
       "       'B', 'B', 'B', 'B', 'B', 'C', 'B', 'B', 'B', 'B', 'B', 'A', 'B',\n",
       "       'B', 'B', 'A', 'B', 'B', 'A', 'B', 'B', 'B', 'B', 'A', 'B', 'B',\n",
       "       'B', 'B', 'B', 'B', 'B', 'B', 'B', 'A', 'A', 'B', 'B', 'B', 'B',\n",
       "       'A', 'B', 'B', 'B', 'B', 'B', 'B', 'B', 'A', 'B', 'B', 'B', 'B',\n",
       "       'B', 'B', 'B', 'C', 'A', 'C', 'B', 'A', 'A', 'B', 'B', 'B', 'B',\n",
       "       'C', 'B', 'A', 'B', 'B', 'B', 'B', 'A', 'B', 'B', 'B', 'A'],\n",
       "      dtype=object)"
      ]
     },
     "execution_count": 144,
     "metadata": {},
     "output_type": "execute_result"
    }
   ],
   "source": [
    "Y_students"
   ]
  },
  {
   "cell_type": "markdown",
   "id": "105cae18",
   "metadata": {},
   "source": [
    "### Treatment of categorical attributes"
   ]
  },
  {
   "cell_type": "markdown",
   "id": "42757d03",
   "metadata": {},
   "source": [
    "#### Label Encoder\n",
    "Applying label encoder on target class"
   ]
  },
  {
   "cell_type": "code",
   "execution_count": 145,
   "id": "7726b8d4",
   "metadata": {},
   "outputs": [],
   "source": [
    "from sklearn.preprocessing import LabelEncoder\n",
    "\n",
    "label_encoder_class_score = LabelEncoder()"
   ]
  },
  {
   "cell_type": "code",
   "execution_count": 146,
   "id": "6ef7bb10",
   "metadata": {},
   "outputs": [],
   "source": [
    "Y_students = label_encoder_class_score.fit_transform(Y_students)"
   ]
  },
  {
   "cell_type": "code",
   "execution_count": 147,
   "id": "a946140f",
   "metadata": {},
   "outputs": [
    {
     "data": {
      "text/plain": [
       "array([1, 0, 0, 2, 1, 1, 0, 2, 1, 2, 1, 2, 1, 1, 1, 1, 0, 2, 2, 1, 1, 1,\n",
       "       1, 1, 1, 1, 1, 1, 1, 1, 1, 1, 1, 2, 0, 0, 1, 1, 0, 1, 1, 1, 1, 1,\n",
       "       1, 1, 1, 1, 1, 0, 1, 1, 2, 0, 0, 2, 0, 1, 1, 2, 1, 2, 1, 1, 1, 1,\n",
       "       2, 1, 1, 1, 1, 1, 2, 1, 2, 2, 2, 1, 1, 1, 2, 2, 1, 1, 2, 1, 0, 1,\n",
       "       1, 0, 1, 2, 1, 2, 0, 0, 1, 1, 1, 1, 1, 1, 0, 1, 0, 1, 0, 1, 1, 1,\n",
       "       0, 1, 1, 1, 0, 1, 0, 1, 1, 1, 0, 0, 0, 1, 1, 0, 1, 1, 1, 1, 0, 2,\n",
       "       1, 0, 1, 1, 2, 1, 1, 1, 1, 1, 1, 2, 1, 2, 0, 1, 1, 0, 1, 1, 1, 1,\n",
       "       1, 0, 1, 1, 1, 1, 1, 0, 1, 1, 0, 0, 1, 1, 1, 1, 1, 0, 0, 1, 2, 0,\n",
       "       1, 1, 1, 0, 1, 1, 2, 1, 2, 1, 1, 1, 2, 0, 1, 1, 1, 1, 1, 1, 1, 1,\n",
       "       1, 1, 1, 1, 1, 1, 2, 1, 1, 1, 1, 1, 1, 2, 1, 1, 0, 0, 0, 2, 1, 1,\n",
       "       1, 0, 1, 0, 1, 1, 1, 1, 1, 0, 1, 2, 1, 0, 0, 1, 1, 1, 1, 0, 1, 0,\n",
       "       1, 1, 1, 1, 1, 1, 1, 1, 2, 1, 1, 1, 1, 1, 1, 1, 1, 1, 1, 1, 2, 0,\n",
       "       1, 2, 1, 1, 0, 1, 1, 2, 1, 1, 0, 1, 0, 1, 1, 1, 2, 2, 1, 1, 2, 0,\n",
       "       0, 1, 1, 1, 1, 1, 1, 1, 1, 1, 2, 1, 2, 0, 0, 1, 1, 1, 1, 1, 0, 2,\n",
       "       1, 1, 1, 1, 1, 1, 1, 1, 0, 1, 1, 1, 1, 0, 1, 2, 2, 0, 1, 2, 1, 2,\n",
       "       1, 2, 1, 0, 0, 1, 1, 2, 2, 1, 1, 1, 1, 1, 1, 1, 1, 0, 1, 1, 1, 1,\n",
       "       1, 1, 1, 1, 1, 1, 1, 0, 1, 0, 1, 2, 1, 1, 1, 1, 1, 0, 1, 1, 1, 0,\n",
       "       1, 2, 0, 0, 1, 1, 0, 0, 1, 2, 2, 1, 1, 1, 1, 1, 1, 1, 1, 1, 1, 2,\n",
       "       1, 0, 1, 1, 1, 2, 1, 0, 1, 1, 1, 1, 1, 0, 1, 0, 1, 1, 1, 1, 1, 1,\n",
       "       1, 1, 0, 1, 1, 1, 2, 1, 0, 1, 1, 1, 1, 1, 1, 1, 1, 1, 1, 1, 1, 0,\n",
       "       1, 1, 1, 1, 1, 1, 1, 0, 2, 1, 1, 0, 1, 1, 1, 2, 0, 1, 0, 1, 1, 1,\n",
       "       1, 0, 1, 0, 2, 1, 0, 0, 0, 1, 1, 1, 0, 1, 1, 1, 1, 1, 1, 1, 1, 1,\n",
       "       1, 1, 1, 1, 1, 0, 1, 1, 0, 0, 1, 1, 1, 1, 1, 1, 1, 0, 1, 0, 1, 0,\n",
       "       1, 1, 1, 0, 1, 1, 1, 1, 0, 0, 0, 1, 1, 1, 1, 0, 1, 1, 1, 1, 1, 2,\n",
       "       2, 1, 1, 1, 1, 0, 1, 1, 1, 1, 1, 0, 1, 0, 1, 0, 1, 0, 0, 1, 1, 1,\n",
       "       1, 0, 2, 1, 2, 2, 1, 1, 1, 1, 1, 1, 0, 1, 2, 2, 0, 1, 1, 1, 1, 0,\n",
       "       1, 1, 1, 2, 1, 0, 1, 1, 0, 1, 1, 1, 1, 1, 1, 1, 1, 1, 1, 1, 1, 1,\n",
       "       0, 1, 2, 1, 1, 1, 1, 2, 1, 1, 0, 1, 0, 1, 1, 1, 1, 1, 0, 1, 0, 1,\n",
       "       2, 0, 0, 1, 1, 1, 1, 0, 1, 0, 1, 1, 1, 1, 1, 1, 1, 0, 0, 1, 1, 0,\n",
       "       1, 1, 2, 0, 1, 1, 1, 1, 1, 1, 1, 1, 1, 1, 0, 1, 1, 1, 1, 1, 1, 0,\n",
       "       1, 1, 1, 1, 1, 1, 1, 0, 1, 1, 1, 1, 1, 1, 1, 1, 1, 1, 1, 1, 1, 1,\n",
       "       1, 2, 1, 0, 1, 1, 1, 0, 1, 1, 1, 1, 1, 0, 0, 1, 1, 1, 0, 1, 0, 1,\n",
       "       1, 1, 2, 1, 0, 1, 0, 0, 0, 0, 1, 0, 1, 0, 1, 0, 1, 1, 0, 2, 2, 1,\n",
       "       1, 1, 0, 2, 1, 2, 0, 2, 1, 1, 0, 1, 1, 1, 1, 1, 0, 1, 1, 1, 1, 1,\n",
       "       1, 0, 1, 1, 1, 0, 1, 0, 1, 1, 1, 1, 1, 1, 0, 1, 1, 1, 1, 1, 1, 1,\n",
       "       2, 1, 1, 1, 1, 1, 1, 2, 1, 0, 1, 0, 0, 1, 0, 2, 1, 2, 1, 1, 1, 1,\n",
       "       1, 0, 2, 1, 1, 1, 1, 1, 1, 1, 0, 0, 1, 1, 1, 2, 1, 1, 2, 2, 1, 0,\n",
       "       1, 0, 1, 1, 1, 0, 0, 0, 1, 0, 1, 1, 1, 1, 1, 1, 1, 0, 1, 0, 1, 1,\n",
       "       1, 1, 1, 1, 2, 1, 2, 1, 1, 0, 0, 1, 1, 1, 1, 1, 0, 1, 1, 0, 1, 1,\n",
       "       2, 1, 1, 0, 2, 1, 0, 0, 1, 2, 1, 1, 1, 1, 0, 0, 1, 1, 0, 1, 1, 1,\n",
       "       1, 1, 1, 2, 1, 1, 0, 1, 1, 2, 0, 0, 1, 1, 1, 2, 2, 1, 1, 1, 0, 1,\n",
       "       2, 0, 1, 0, 1, 0, 1, 1, 2, 1, 1, 1, 1, 1, 0, 1, 1, 0, 1, 2, 1, 1,\n",
       "       1, 1, 1, 1, 2, 1, 1, 1, 1, 1, 0, 1, 1, 1, 0, 1, 1, 0, 1, 1, 1, 1,\n",
       "       0, 1, 1, 1, 1, 1, 1, 1, 1, 1, 0, 0, 1, 1, 1, 1, 0, 1, 1, 1, 1, 1,\n",
       "       1, 1, 0, 1, 1, 1, 1, 1, 1, 1, 2, 0, 2, 1, 0, 0, 1, 1, 1, 1, 2, 1,\n",
       "       0, 1, 1, 1, 1, 0, 1, 1, 1, 0])"
      ]
     },
     "execution_count": 147,
     "metadata": {},
     "output_type": "execute_result"
    }
   ],
   "source": [
    "Y_students"
   ]
  },
  {
   "cell_type": "markdown",
   "id": "91ae7702",
   "metadata": {},
   "source": [
    "#### OneHot Encoder\n",
    "Applying OHE on entry values"
   ]
  },
  {
   "cell_type": "code",
   "execution_count": 67,
   "id": "ab80a0d3",
   "metadata": {},
   "outputs": [],
   "source": [
    "from sklearn.preprocessing import OneHotEncoder\n",
    "from sklearn.preprocessing import OneHotEncoder, StandardScaler\n",
    "from sklearn.compose import ColumnTransformer"
   ]
  },
  {
   "cell_type": "code",
   "execution_count": 150,
   "id": "76a270a7",
   "metadata": {},
   "outputs": [],
   "source": [
    "# Transforming categorical variables in dummy variables\n",
    "categorical_cols = [0, 1, 2, 3, 4]\n",
    "numerical_cols = [5, 6, 7]\n",
    "\n",
    "onehotencoder_students = ColumnTransformer(\n",
    "    transformers = [\n",
    "        ('onehot', OneHotEncoder(), categorical_cols),\n",
    "        ('scaler', StandardScaler(), numerical_cols)\n",
    "        ],\n",
    "    )\n"
   ]
  },
  {
   "cell_type": "code",
   "execution_count": 151,
   "id": "9f1c36e4",
   "metadata": {},
   "outputs": [],
   "source": [
    "X_students = onehotencoder_students.fit_transform(data_students.iloc[:, 0:8])"
   ]
  },
  {
   "cell_type": "code",
   "execution_count": 152,
   "id": "ef332887",
   "metadata": {},
   "outputs": [
    {
     "data": {
      "text/plain": [
       "array([[ 1.        ,  0.        ,  0.        , ...,  0.39002351,\n",
       "         0.19399858,  0.39149181],\n",
       "       [ 1.        ,  0.        ,  0.        , ...,  0.19207553,\n",
       "         1.42747598,  1.31326868],\n",
       "       [ 1.        ,  0.        ,  0.        , ...,  1.57771141,\n",
       "         1.77010859,  1.64247471],\n",
       "       ...,\n",
       "       [ 1.        ,  0.        ,  0.        , ..., -0.46775108,\n",
       "         0.12547206, -0.20107904],\n",
       "       [ 1.        ,  0.        ,  0.        , ...,  0.12609287,\n",
       "         0.60515772,  0.58901542],\n",
       "       [ 1.        ,  0.        ,  0.        , ...,  0.71993682,\n",
       "         1.15336989,  1.18158627]])"
      ]
     },
     "execution_count": 152,
     "metadata": {},
     "output_type": "execute_result"
    }
   ],
   "source": [
    "X_students"
   ]
  },
  {
   "cell_type": "markdown",
   "id": "738d24e6",
   "metadata": {},
   "source": [
    "### Dividing the training and testing bases\n",
    "\n",
    "Separating 15% of the base for testing"
   ]
  },
  {
   "cell_type": "code",
   "execution_count": 70,
   "id": "d0e797da",
   "metadata": {},
   "outputs": [],
   "source": [
    "from sklearn.model_selection import train_test_split"
   ]
  },
  {
   "cell_type": "code",
   "execution_count": 153,
   "id": "ef0fde99",
   "metadata": {},
   "outputs": [],
   "source": [
    "X_students_train, X_students_test, Y_students_train, Y_students_test = train_test_split(X_students, Y_students, test_size = 0.15, random_state = 0)"
   ]
  },
  {
   "cell_type": "code",
   "execution_count": 154,
   "id": "85e10240",
   "metadata": {},
   "outputs": [
    {
     "data": {
      "text/plain": [
       "((850, 20), (850,))"
      ]
     },
     "execution_count": 154,
     "metadata": {},
     "output_type": "execute_result"
    }
   ],
   "source": [
    "X_students_train.shape, Y_students_train.shape"
   ]
  },
  {
   "cell_type": "code",
   "execution_count": 155,
   "id": "990ad377",
   "metadata": {},
   "outputs": [
    {
     "data": {
      "text/plain": [
       "((150, 20), (1000,))"
      ]
     },
     "execution_count": 155,
     "metadata": {},
     "output_type": "execute_result"
    }
   ],
   "source": [
    "X_students_test.shape, Y_students.shape"
   ]
  },
  {
   "cell_type": "markdown",
   "id": "a32e8a62",
   "metadata": {},
   "source": [
    "### Saving processed variables"
   ]
  },
  {
   "cell_type": "code",
   "execution_count": 156,
   "id": "1f9e53e6",
   "metadata": {},
   "outputs": [],
   "source": [
    "import pickle\n",
    "\n",
    "with open('students_performance.pkl', mode = 'wb') as f:\n",
    "    pickle.dump((X_students_train, Y_students_train, X_students_test, Y_students_test), f)"
   ]
  }
 ],
 "metadata": {
  "kernelspec": {
   "display_name": "base",
   "language": "python",
   "name": "python3"
  },
  "language_info": {
   "codemirror_mode": {
    "name": "ipython",
    "version": 3
   },
   "file_extension": ".py",
   "mimetype": "text/x-python",
   "name": "python",
   "nbconvert_exporter": "python",
   "pygments_lexer": "ipython3",
   "version": "3.12.7"
  }
 },
 "nbformat": 4,
 "nbformat_minor": 5
}
