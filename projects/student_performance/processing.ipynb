{
 "cells": [
  {
   "cell_type": "markdown",
   "id": "3580ca95",
   "metadata": {},
   "source": [
    "# Student Performance - Processing\n",
    "Dataset of students performance in exams.\n",
    "\n",
    "Processing the average score of each student\n",
    "\n",
    "Kaggle: https://www.kaggle.com/datasets/spscientist/students-performance-in-exams"
   ]
  },
  {
   "cell_type": "code",
   "execution_count": 1,
   "id": "880072f4",
   "metadata": {},
   "outputs": [],
   "source": [
    "import pandas as pd\n",
    "import numpy as np\n",
    "import seaborn as sns\n",
    "import matplotlib.pyplot as plt\n",
    "import plotly.express as px"
   ]
  },
  {
   "cell_type": "code",
   "execution_count": 103,
   "id": "b631425d",
   "metadata": {},
   "outputs": [],
   "source": [
    "#Importing dataset file\n",
    "data_students = pd.read_csv('./data/students.csv')"
   ]
  },
  {
   "cell_type": "code",
   "execution_count": 53,
   "id": "486290c1",
   "metadata": {},
   "outputs": [
    {
     "data": {
      "text/plain": [
       "Index(['gender', 'race/ethnicity', 'parental level of education', 'lunch',\n",
       "       'test preparation course', 'average score'],\n",
       "      dtype='object')"
      ]
     },
     "execution_count": 53,
     "metadata": {},
     "output_type": "execute_result"
    }
   ],
   "source": [
    "#Exploring dataset\n",
    "data_students.columns"
   ]
  },
  {
   "cell_type": "code",
   "execution_count": 54,
   "id": "36f97b67",
   "metadata": {},
   "outputs": [
    {
     "data": {
      "application/vnd.microsoft.datawrangler.viewer.v0+json": {
       "columns": [
        {
         "name": "index",
         "rawType": "int64",
         "type": "integer"
        },
        {
         "name": "gender",
         "rawType": "object",
         "type": "string"
        },
        {
         "name": "race/ethnicity",
         "rawType": "object",
         "type": "string"
        },
        {
         "name": "parental level of education",
         "rawType": "object",
         "type": "string"
        },
        {
         "name": "lunch",
         "rawType": "object",
         "type": "string"
        },
        {
         "name": "test preparation course",
         "rawType": "object",
         "type": "string"
        },
        {
         "name": "average score",
         "rawType": "float64",
         "type": "float"
        }
       ],
       "ref": "5950eeea-e7de-4897-aeb9-849063b9972a",
       "rows": [
        [
         "0",
         "female",
         "group B",
         "bachelor's degree",
         "standard",
         "none",
         "72.66666666666667"
        ],
        [
         "1",
         "female",
         "group C",
         "some college",
         "standard",
         "completed",
         "82.33333333333333"
        ],
        [
         "2",
         "female",
         "group B",
         "master's degree",
         "standard",
         "none",
         "92.66666666666669"
        ],
        [
         "3",
         "male",
         "group A",
         "associate's degree",
         "free/reduced",
         "none",
         "49.333333333333336"
        ],
        [
         "4",
         "male",
         "group C",
         "some college",
         "standard",
         "none",
         "76.33333333333333"
        ],
        [
         "5",
         "female",
         "group B",
         "associate's degree",
         "standard",
         "none",
         "77.33333333333333"
        ],
        [
         "6",
         "female",
         "group B",
         "some college",
         "standard",
         "completed",
         "91.66666666666669"
        ],
        [
         "7",
         "male",
         "group B",
         "some college",
         "free/reduced",
         "none",
         "40.66666666666666"
        ],
        [
         "8",
         "male",
         "group D",
         "high school",
         "free/reduced",
         "completed",
         "65.0"
        ],
        [
         "9",
         "female",
         "group B",
         "high school",
         "free/reduced",
         "none",
         "49.333333333333336"
        ]
       ],
       "shape": {
        "columns": 6,
        "rows": 10
       }
      },
      "text/html": [
       "<div>\n",
       "<style scoped>\n",
       "    .dataframe tbody tr th:only-of-type {\n",
       "        vertical-align: middle;\n",
       "    }\n",
       "\n",
       "    .dataframe tbody tr th {\n",
       "        vertical-align: top;\n",
       "    }\n",
       "\n",
       "    .dataframe thead th {\n",
       "        text-align: right;\n",
       "    }\n",
       "</style>\n",
       "<table border=\"1\" class=\"dataframe\">\n",
       "  <thead>\n",
       "    <tr style=\"text-align: right;\">\n",
       "      <th></th>\n",
       "      <th>gender</th>\n",
       "      <th>race/ethnicity</th>\n",
       "      <th>parental level of education</th>\n",
       "      <th>lunch</th>\n",
       "      <th>test preparation course</th>\n",
       "      <th>average score</th>\n",
       "    </tr>\n",
       "  </thead>\n",
       "  <tbody>\n",
       "    <tr>\n",
       "      <th>0</th>\n",
       "      <td>female</td>\n",
       "      <td>group B</td>\n",
       "      <td>bachelor's degree</td>\n",
       "      <td>standard</td>\n",
       "      <td>none</td>\n",
       "      <td>72.666667</td>\n",
       "    </tr>\n",
       "    <tr>\n",
       "      <th>1</th>\n",
       "      <td>female</td>\n",
       "      <td>group C</td>\n",
       "      <td>some college</td>\n",
       "      <td>standard</td>\n",
       "      <td>completed</td>\n",
       "      <td>82.333333</td>\n",
       "    </tr>\n",
       "    <tr>\n",
       "      <th>2</th>\n",
       "      <td>female</td>\n",
       "      <td>group B</td>\n",
       "      <td>master's degree</td>\n",
       "      <td>standard</td>\n",
       "      <td>none</td>\n",
       "      <td>92.666667</td>\n",
       "    </tr>\n",
       "    <tr>\n",
       "      <th>3</th>\n",
       "      <td>male</td>\n",
       "      <td>group A</td>\n",
       "      <td>associate's degree</td>\n",
       "      <td>free/reduced</td>\n",
       "      <td>none</td>\n",
       "      <td>49.333333</td>\n",
       "    </tr>\n",
       "    <tr>\n",
       "      <th>4</th>\n",
       "      <td>male</td>\n",
       "      <td>group C</td>\n",
       "      <td>some college</td>\n",
       "      <td>standard</td>\n",
       "      <td>none</td>\n",
       "      <td>76.333333</td>\n",
       "    </tr>\n",
       "    <tr>\n",
       "      <th>5</th>\n",
       "      <td>female</td>\n",
       "      <td>group B</td>\n",
       "      <td>associate's degree</td>\n",
       "      <td>standard</td>\n",
       "      <td>none</td>\n",
       "      <td>77.333333</td>\n",
       "    </tr>\n",
       "    <tr>\n",
       "      <th>6</th>\n",
       "      <td>female</td>\n",
       "      <td>group B</td>\n",
       "      <td>some college</td>\n",
       "      <td>standard</td>\n",
       "      <td>completed</td>\n",
       "      <td>91.666667</td>\n",
       "    </tr>\n",
       "    <tr>\n",
       "      <th>7</th>\n",
       "      <td>male</td>\n",
       "      <td>group B</td>\n",
       "      <td>some college</td>\n",
       "      <td>free/reduced</td>\n",
       "      <td>none</td>\n",
       "      <td>40.666667</td>\n",
       "    </tr>\n",
       "    <tr>\n",
       "      <th>8</th>\n",
       "      <td>male</td>\n",
       "      <td>group D</td>\n",
       "      <td>high school</td>\n",
       "      <td>free/reduced</td>\n",
       "      <td>completed</td>\n",
       "      <td>65.000000</td>\n",
       "    </tr>\n",
       "    <tr>\n",
       "      <th>9</th>\n",
       "      <td>female</td>\n",
       "      <td>group B</td>\n",
       "      <td>high school</td>\n",
       "      <td>free/reduced</td>\n",
       "      <td>none</td>\n",
       "      <td>49.333333</td>\n",
       "    </tr>\n",
       "  </tbody>\n",
       "</table>\n",
       "</div>"
      ],
      "text/plain": [
       "   gender race/ethnicity parental level of education         lunch  \\\n",
       "0  female        group B           bachelor's degree      standard   \n",
       "1  female        group C                some college      standard   \n",
       "2  female        group B             master's degree      standard   \n",
       "3    male        group A          associate's degree  free/reduced   \n",
       "4    male        group C                some college      standard   \n",
       "5  female        group B          associate's degree      standard   \n",
       "6  female        group B                some college      standard   \n",
       "7    male        group B                some college  free/reduced   \n",
       "8    male        group D                 high school  free/reduced   \n",
       "9  female        group B                 high school  free/reduced   \n",
       "\n",
       "  test preparation course  average score  \n",
       "0                    none      72.666667  \n",
       "1               completed      82.333333  \n",
       "2                    none      92.666667  \n",
       "3                    none      49.333333  \n",
       "4                    none      76.333333  \n",
       "5                    none      77.333333  \n",
       "6               completed      91.666667  \n",
       "7                    none      40.666667  \n",
       "8               completed      65.000000  \n",
       "9                    none      49.333333  "
      ]
     },
     "execution_count": 54,
     "metadata": {},
     "output_type": "execute_result"
    }
   ],
   "source": [
    "data_students.head(10)"
   ]
  },
  {
   "cell_type": "markdown",
   "id": "719c3009",
   "metadata": {},
   "source": [
    "### Exploring dataset"
   ]
  },
  {
   "cell_type": "code",
   "execution_count": 56,
   "id": "b7998ecd",
   "metadata": {},
   "outputs": [
    {
     "data": {
      "text/plain": [
       "(array([  1.,   5.,  12.,  40., 124., 178., 262., 210., 122.,  46.]),\n",
       " array([  9. ,  18.1,  27.2,  36.3,  45.4,  54.5,  63.6,  72.7,  81.8,\n",
       "         90.9, 100. ]),\n",
       " <BarContainer object of 10 artists>)"
      ]
     },
     "execution_count": 56,
     "metadata": {},
     "output_type": "execute_result"
    },
    {
     "data": {
      "image/png": "[encoded data removed]",
      "text/plain": [
       "<Figure size 640x480 with 1 Axes>"
      ]
     },
     "metadata": {},
     "output_type": "display_data"
    }
   ],
   "source": [
    "#Approximate math score\n",
    "plt.hist(x = data_students['average score'])"
   ]
  },
  {
   "cell_type": "code",
   "execution_count": 57,
   "id": "e2a51ec0",
   "metadata": {},
   "outputs": [
    {
     "data": {
      "application/vnd.plotly.v1+json": {
       "config": {
        "plotlyServerURL": "https://plot.ly"
       },
       "data": [
        {
         "branchvalues": "total",
         "domain": {
          "x": [
           0,
           1
          ],
          "y": [
           0,
           1
          ]
         },
         "hovertemplate": "labels=%{label}<br>count=%{value}<br>parent=%{parent}<br>id=%{id}<extra></extra>",
         "ids": [
          "female/associate's degree/group A",
          "male/associate's degree/group A",
          "female/bachelor's degree/group A",
          "male/bachelor's degree/group A",
          "female/high school/group A",
          "male/high school/group A",
          "female/master's degree/group A",
          "male/master's degree/group A",
          "female/some college/group A",
          "male/some college/group A",
          "female/some high school/group A",
          "male/some high school/group A",
          "female/associate's degree/group B",
          "male/associate's degree/group B",
          "female/bachelor's degree/group B",
          "male/bachelor's degree/group B",
          "female/high school/group B",
          "male/high school/group B",
          "female/master's degree/group B",
          "male/master's degree/group B",
          "female/some college/group B",
          "male/some college/group B",
          "female/some high school/group B",
          "male/some high school/group B",
          "female/associate's degree/group C",
          "male/associate's degree/group C",
          "female/bachelor's degree/group C",
          "male/bachelor's degree/group C",
          "female/high school/group C",
          "male/high school/group C",
          "female/master's degree/group C",
          "male/master's degree/group C",
          "female/some college/group C",
          "male/some college/group C",
          "female/some high school/group C",
          "male/some high school/group C",
          "female/associate's degree/group D",
          "male/associate's degree/group D",
          "female/bachelor's degree/group D",
          "male/bachelor's degree/group D",
          "female/high school/group D",
          "male/high school/group D",
          "female/master's degree/group D",
          "male/master's degree/group D",
          "female/some college/group D",
          "male/some college/group D",
          "female/some high school/group D",
          "male/some high school/group D",
          "female/associate's degree/group E",
          "male/associate's degree/group E",
          "female/bachelor's degree/group E",
          "male/bachelor's degree/group E",
          "female/high school/group E",
          "male/high school/group E",
          "female/master's degree/group E",
          "male/master's degree/group E",
          "female/some college/group E",
          "male/some college/group E",
          "female/some high school/group E",
          "male/some high school/group E",
          "female/associate's degree",
          "male/associate's degree",
          "female/bachelor's degree",
          "male/bachelor's degree",
          "female/high school",
          "male/high school",
          "female/master's degree",
          "male/master's degree",
          "female/some college",
          "male/some college",
          "female/some high school",
          "male/some high school",
          "female",
          "male"
         ],
         "labels": [
          "group A",
          "group A",
          "group A",
          "group A",
          "group A",
          "group A",
          "group A",
          "group A",
          "group A",
          "group A",
          "group A",
          "group A",
          "group B",
          "group B",
          "group B",
          "group B",
          "group B",
          "group B",
          "group B",
          "group B",
          "group B",
          "group B",
          "group B",
          "group B",
          "group C",
          "group C",
          "group C",
          "group C",
          "group C",
          "group C",
          "group C",
          "group C",
          "group C",
          "group C",
          "group C",
          "group C",
          "group D",
          "group D",
          "group D",
          "group D",
          "group D",
          "group D",
          "group D",
          "group D",
          "group D",
          "group D",
          "group D",
          "group D",
          "group E",
          "group E",
          "group E",
          "group E",
          "group E",
          "group E",
          "group E",
          "group E",
          "group E",
          "group E",
          "group E",
          "group E",
          "associate's degree",
          "associate's degree",
          "bachelor's degree",
          "bachelor's degree",
          "high school",
          "high school",
          "master's degree",
          "master's degree",
          "some college",
          "some college",
          "some high school",
          "some high school",
          "female",
          "male"
         ],
         "name": "",
         "parents": [
          "female/associate's degree",
          "male/associate's degree",
          "female/bachelor's degree",
          "male/bachelor's degree",
          "female/high school",
          "male/high school",
          "female/master's degree",
          "male/master's degree",
          "female/some college",
          "male/some college",
          "female/some high school",
          "male/some high school",
          "female/associate's degree",
          "male/associate's degree",
          "female/bachelor's degree",
          "male/bachelor's degree",
          "female/high school",
          "male/high school",
          "female/master's degree",
          "male/master's degree",
          "female/some college",
          "male/some college",
          "female/some high school",
          "male/some high school",
          "female/associate's degree",
          "male/associate's degree",
          "female/bachelor's degree",
          "male/bachelor's degree",
          "female/high school",
          "male/high school",
          "female/master's degree",
          "male/master's degree",
          "female/some college",
          "male/some college",
          "female/some high school",
          "male/some high school",
          "female/associate's degree",
          "male/associate's degree",
          "female/bachelor's degree",
          "male/bachelor's degree",
          "female/high school",
          "male/high school",
          "female/master's degree",
          "male/master's degree",
          "female/some college",
          "male/some college",
          "female/some high school",
          "male/some high school",
          "female/associate's degree",
          "male/associate's degree",
          "female/bachelor's degree",
          "male/bachelor's degree",
          "female/high school",
          "male/high school",
          "female/master's degree",
          "male/master's degree",
          "female/some college",
          "male/some college",
          "female/some high school",
          "male/some high school",
          "female",
          "male",
          "female",
          "male",
          "female",
          "male",
          "female",
          "male",
          "female",
          "male",
          "female",
          "male",
          "",
          ""
         ],
         "type": "treemap",
         "values": [
          6,
          8,
          3,
          9,
          7,
          11,
          2,
          1,
          8,
          10,
          10,
          14,
          23,
          18,
          11,
          9,
          28,
          20,
          5,
          1,
          15,
          22,
          22,
          16,
          45,
          33,
          26,
          14,
          30,
          34,
          7,
          12,
          44,
          25,
          28,
          21,
          24,
          26,
          13,
          15,
          17,
          27,
          15,
          8,
          35,
          32,
          25,
          25,
          18,
          21,
          10,
          8,
          12,
          10,
          7,
          1,
          16,
          19,
          6,
          12,
          116,
          106,
          63,
          55,
          94,
          102,
          36,
          23,
          118,
          108,
          91,
          88,
          518,
          482
         ]
        }
       ],
       "layout": {
        "legend": {
         "tracegroupgap": 0
        },
        "margin": {
         "t": 60
        },
        "template": {
         "data": {
          "bar": [
           {
            "error_x": {
             "color": "#2a3f5f"
            },
            "error_y": {
             "color": "#2a3f5f"
            },
            "marker": {
             "line": {
              "color": "#E5ECF6",
              "width": 0.5
             },
             "pattern": {
              "fillmode": "overlay",
              "size": 10,
              "solidity": 0.2
             }
            },
            "type": "bar"
           }
          ],
          "barpolar": [
           {
            "marker": {
             "line": {
              "color": "#E5ECF6",
              "width": 0.5
             },
             "pattern": {
              "fillmode": "overlay",
              "size": 10,
              "solidity": 0.2
             }
            },
            "type": "barpolar"
           }
          ],
          "carpet": [
           {
            "aaxis": {
             "endlinecolor": "#2a3f5f",
             "gridcolor": "white",
             "linecolor": "white",
             "minorgridcolor": "white",
             "startlinecolor": "#2a3f5f"
            },
            "baxis": {
             "endlinecolor": "#2a3f5f",
             "gridcolor": "white",
             "linecolor": "white",
             "minorgridcolor": "white",
             "startlinecolor": "#2a3f5f"
            },
            "type": "carpet"
           }
          ],
          "choropleth": [
           {
            "colorbar": {
             "outlinewidth": 0,
             "ticks": ""
            },
            "type": "choropleth"
           }
          ],
          "contour": [
           {
            "colorbar": {
             "outlinewidth": 0,
             "ticks": ""
            },
            "colorscale": [
             [
              0,
              "#0d0887"
             ],
             [
              0.1111111111111111,
              "#46039f"
             ],
             [
              0.2222222222222222,
              "#7201a8"
             ],
             [
              0.3333333333333333,
              "#9c179e"
             ],
             [
              0.4444444444444444,
              "#bd3786"
             ],
             [
              0.5555555555555556,
              "#d8576b"
             ],
             [
              0.6666666666666666,
              "#ed7953"
             ],
             [
              0.7777777777777778,
              "#fb9f3a"
             ],
             [
              0.8888888888888888,
              "#fdca26"
             ],
             [
              1,
              "#f0f921"
             ]
            ],
            "type": "contour"
           }
          ],
          "contourcarpet": [
           {
            "colorbar": {
             "outlinewidth": 0,
             "ticks": ""
            },
            "type": "contourcarpet"
           }
          ],
          "heatmap": [
           {
            "colorbar": {
             "outlinewidth": 0,
             "ticks": ""
            },
            "colorscale": [
             [
              0,
              "#0d0887"
             ],
             [
              0.1111111111111111,
              "#46039f"
             ],
             [
              0.2222222222222222,
              "#7201a8"
             ],
             [
              0.3333333333333333,
              "#9c179e"
             ],
             [
              0.4444444444444444,
              "#bd3786"
             ],
             [
              0.5555555555555556,
              "#d8576b"
             ],
             [
              0.6666666666666666,
              "#ed7953"
             ],
             [
              0.7777777777777778,
              "#fb9f3a"
             ],
             [
              0.8888888888888888,
              "#fdca26"
             ],
             [
              1,
              "#f0f921"
             ]
            ],
            "type": "heatmap"
           }
          ],
          "heatmapgl": [
           {
            "colorbar": {
             "outlinewidth": 0,
             "ticks": ""
            },
            "colorscale": [
             [
              0,
              "#0d0887"
             ],
             [
              0.1111111111111111,
              "#46039f"
             ],
             [
              0.2222222222222222,
              "#7201a8"
             ],
             [
              0.3333333333333333,
              "#9c179e"
             ],
             [
              0.4444444444444444,
              "#bd3786"
             ],
             [
              0.5555555555555556,
              "#d8576b"
             ],
             [
              0.6666666666666666,
              "#ed7953"
             ],
             [
              0.7777777777777778,
              "#fb9f3a"
             ],
             [
              0.8888888888888888,
              "#fdca26"
             ],
             [
              1,
              "#f0f921"
             ]
            ],
            "type": "heatmapgl"
           }
          ],
          "histogram": [
           {
            "marker": {
             "pattern": {
              "fillmode": "overlay",
              "size": 10,
              "solidity": 0.2
             }
            },
            "type": "histogram"
           }
          ],
          "histogram2d": [
           {
            "colorbar": {
             "outlinewidth": 0,
             "ticks": ""
            },
            "colorscale": [
             [
              0,
              "#0d0887"
             ],
             [
              0.1111111111111111,
              "#46039f"
             ],
             [
              0.2222222222222222,
              "#7201a8"
             ],
             [
              0.3333333333333333,
              "#9c179e"
             ],
             [
              0.4444444444444444,
              "#bd3786"
             ],
             [
              0.5555555555555556,
              "#d8576b"
             ],
             [
              0.6666666666666666,
              "#ed7953"
             ],
             [
              0.7777777777777778,
              "#fb9f3a"
             ],
             [
              0.8888888888888888,
              "#fdca26"
             ],
             [
              1,
              "#f0f921"
             ]
            ],
            "type": "histogram2d"
           }
          ],
          "histogram2dcontour": [
           {
            "colorbar": {
             "outlinewidth": 0,
             "ticks": ""
            },
            "colorscale": [
             [
              0,
              "#0d0887"
             ],
             [
              0.1111111111111111,
              "#46039f"
             ],
             [
              0.2222222222222222,
              "#7201a8"
             ],
             [
              0.3333333333333333,
              "#9c179e"
             ],
             [
              0.4444444444444444,
              "#bd3786"
             ],
             [
              0.5555555555555556,
              "#d8576b"
             ],
             [
              0.6666666666666666,
              "#ed7953"
             ],
             [
              0.7777777777777778,
              "#fb9f3a"
             ],
             [
              0.8888888888888888,
              "#fdca26"
             ],
             [
              1,
              "#f0f921"
             ]
            ],
            "type": "histogram2dcontour"
           }
          ],
          "mesh3d": [
           {
            "colorbar": {
             "outlinewidth": 0,
             "ticks": ""
            },
            "type": "mesh3d"
           }
          ],
          "parcoords": [
           {
            "line": {
             "colorbar": {
              "outlinewidth": 0,
              "ticks": ""
             }
            },
            "type": "parcoords"
           }
          ],
          "pie": [
           {
            "automargin": true,
            "type": "pie"
           }
          ],
          "scatter": [
           {
            "fillpattern": {
             "fillmode": "overlay",
             "size": 10,
             "solidity": 0.2
            },
            "type": "scatter"
           }
          ],
          "scatter3d": [
           {
            "line": {
             "colorbar": {
              "outlinewidth": 0,
              "ticks": ""
             }
            },
            "marker": {
             "colorbar": {
              "outlinewidth": 0,
              "ticks": ""
             }
            },
            "type": "scatter3d"
           }
          ],
          "scattercarpet": [
           {
            "marker": {
             "colorbar": {
              "outlinewidth": 0,
              "ticks": ""
             }
            },
            "type": "scattercarpet"
           }
          ],
          "scattergeo": [
           {
            "marker": {
             "colorbar": {
              "outlinewidth": 0,
              "ticks": ""
             }
            },
            "type": "scattergeo"
           }
          ],
          "scattergl": [
           {
            "marker": {
             "colorbar": {
              "outlinewidth": 0,
              "ticks": ""
             }
            },
            "type": "scattergl"
           }
          ],
          "scattermapbox": [
           {
            "marker": {
             "colorbar": {
              "outlinewidth": 0,
              "ticks": ""
             }
            },
            "type": "scattermapbox"
           }
          ],
          "scatterpolar": [
           {
            "marker": {
             "colorbar": {
              "outlinewidth": 0,
              "ticks": ""
             }
            },
            "type": "scatterpolar"
           }
          ],
          "scatterpolargl": [
           {
            "marker": {
             "colorbar": {
              "outlinewidth": 0,
              "ticks": ""
             }
            },
            "type": "scatterpolargl"
           }
          ],
          "scatterternary": [
           {
            "marker": {
             "colorbar": {
              "outlinewidth": 0,
              "ticks": ""
             }
            },
            "type": "scatterternary"
           }
          ],
          "surface": [
           {
            "colorbar": {
             "outlinewidth": 0,
             "ticks": ""
            },
            "colorscale": [
             [
              0,
              "#0d0887"
             ],
             [
              0.1111111111111111,
              "#46039f"
             ],
             [
              0.2222222222222222,
              "#7201a8"
             ],
             [
              0.3333333333333333,
              "#9c179e"
             ],
             [
              0.4444444444444444,
              "#bd3786"
             ],
             [
              0.5555555555555556,
              "#d8576b"
             ],
             [
              0.6666666666666666,
              "#ed7953"
             ],
             [
              0.7777777777777778,
              "#fb9f3a"
             ],
             [
              0.8888888888888888,
              "#fdca26"
             ],
             [
              1,
              "#f0f921"
             ]
            ],
            "type": "surface"
           }
          ],
          "table": [
           {
            "cells": {
             "fill": {
              "color": "#EBF0F8"
             },
             "line": {
              "color": "white"
             }
            },
            "header": {
             "fill": {
              "color": "#C8D4E3"
             },
             "line": {
              "color": "white"
             }
            },
            "type": "table"
           }
          ]
         },
         "layout": {
          "annotationdefaults": {
           "arrowcolor": "#2a3f5f",
           "arrowhead": 0,
           "arrowwidth": 1
          },
          "autotypenumbers": "strict",
          "coloraxis": {
           "colorbar": {
            "outlinewidth": 0,
            "ticks": ""
           }
          },
          "colorscale": {
           "diverging": [
            [
             0,
             "#8e0152"
            ],
            [
             0.1,
             "#c51b7d"
            ],
            [
             0.2,
             "#de77ae"
            ],
            [
             0.3,
             "#f1b6da"
            ],
            [
             0.4,
             "#fde0ef"
            ],
            [
             0.5,
             "#f7f7f7"
            ],
            [
             0.6,
             "#e6f5d0"
            ],
            [
             0.7,
             "#b8e186"
            ],
            [
             0.8,
             "#7fbc41"
            ],
            [
             0.9,
             "#4d9221"
            ],
            [
             1,
             "#276419"
            ]
           ],
           "sequential": [
            [
             0,
             "#0d0887"
            ],
            [
             0.1111111111111111,
             "#46039f"
            ],
            [
             0.2222222222222222,
             "#7201a8"
            ],
            [
             0.3333333333333333,
             "#9c179e"
            ],
            [
             0.4444444444444444,
             "#bd3786"
            ],
            [
             0.5555555555555556,
             "#d8576b"
            ],
            [
             0.6666666666666666,
             "#ed7953"
            ],
            [
             0.7777777777777778,
             "#fb9f3a"
            ],
            [
             0.8888888888888888,
             "#fdca26"
            ],
            [
             1,
             "#f0f921"
            ]
           ],
           "sequentialminus": [
            [
             0,
             "#0d0887"
            ],
            [
             0.1111111111111111,
             "#46039f"
            ],
            [
             0.2222222222222222,
             "#7201a8"
            ],
            [
             0.3333333333333333,
             "#9c179e"
            ],
            [
             0.4444444444444444,
             "#bd3786"
            ],
            [
             0.5555555555555556,
             "#d8576b"
            ],
            [
             0.6666666666666666,
             "#ed7953"
            ],
            [
             0.7777777777777778,
             "#fb9f3a"
            ],
            [
             0.8888888888888888,
             "#fdca26"
            ],
            [
             1,
             "#f0f921"
            ]
           ]
          },
          "colorway": [
           "#636efa",
           "#EF553B",
           "#00cc96",
           "#ab63fa",
           "#FFA15A",
           "#19d3f3",
           "#FF6692",
           "#B6E880",
           "#FF97FF",
           "#FECB52"
          ],
          "font": {
           "color": "#2a3f5f"
          },
          "geo": {
           "bgcolor": "white",
           "lakecolor": "white",
           "landcolor": "#E5ECF6",
           "showlakes": true,
           "showland": true,
           "subunitcolor": "white"
          },
          "hoverlabel": {
           "align": "left"
          },
          "hovermode": "closest",
          "mapbox": {
           "style": "light"
          },
          "paper_bgcolor": "white",
          "plot_bgcolor": "#E5ECF6",
          "polar": {
           "angularaxis": {
            "gridcolor": "white",
            "linecolor": "white",
            "ticks": ""
           },
           "bgcolor": "#E5ECF6",
           "radialaxis": {
            "gridcolor": "white",
            "linecolor": "white",
            "ticks": ""
           }
          },
          "scene": {
           "xaxis": {
            "backgroundcolor": "#E5ECF6",
            "gridcolor": "white",
            "gridwidth": 2,
            "linecolor": "white",
            "showbackground": true,
            "ticks": "",
            "zerolinecolor": "white"
           },
           "yaxis": {
            "backgroundcolor": "#E5ECF6",
            "gridcolor": "white",
            "gridwidth": 2,
            "linecolor": "white",
            "showbackground": true,
            "ticks": "",
            "zerolinecolor": "white"
           },
           "zaxis": {
            "backgroundcolor": "#E5ECF6",
            "gridcolor": "white",
            "gridwidth": 2,
            "linecolor": "white",
            "showbackground": true,
            "ticks": "",
            "zerolinecolor": "white"
           }
          },
          "shapedefaults": {
           "line": {
            "color": "#2a3f5f"
           }
          },
          "ternary": {
           "aaxis": {
            "gridcolor": "white",
            "linecolor": "white",
            "ticks": ""
           },
           "baxis": {
            "gridcolor": "white",
            "linecolor": "white",
            "ticks": ""
           },
           "bgcolor": "#E5ECF6",
           "caxis": {
            "gridcolor": "white",
            "linecolor": "white",
            "ticks": ""
           }
          },
          "title": {
           "x": 0.05
          },
          "xaxis": {
           "automargin": true,
           "gridcolor": "white",
           "linecolor": "white",
           "ticks": "",
           "title": {
            "standoff": 15
           },
           "zerolinecolor": "white",
           "zerolinewidth": 2
          },
          "yaxis": {
           "automargin": true,
           "gridcolor": "white",
           "linecolor": "white",
           "ticks": "",
           "title": {
            "standoff": 15
           },
           "zerolinecolor": "white",
           "zerolinewidth": 2
          }
         }
        }
       }
      }
     },
     "metadata": {},
     "output_type": "display_data"
    }
   ],
   "source": [
    "graphic = px.treemap(data_students, path = ['gender', 'parental level of education', 'race/ethnicity'])\n",
    "graphic.show()"
   ]
  },
  {
   "cell_type": "markdown",
   "id": "36fa815b",
   "metadata": {},
   "source": [
    "### Handling inconsistent values"
   ]
  },
  {
   "cell_type": "code",
   "execution_count": 58,
   "id": "b53126ce",
   "metadata": {},
   "outputs": [
    {
     "data": {
      "application/vnd.microsoft.datawrangler.viewer.v0+json": {
       "columns": [
        {
         "name": "index",
         "rawType": "object",
         "type": "string"
        },
        {
         "name": "0",
         "rawType": "int64",
         "type": "integer"
        }
       ],
       "ref": "675c68c0-dae3-4cbd-9eb5-f16653d205bb",
       "rows": [
        [
         "gender",
         "0"
        ],
        [
         "race/ethnicity",
         "0"
        ],
        [
         "parental level of education",
         "0"
        ],
        [
         "lunch",
         "0"
        ],
        [
         "test preparation course",
         "0"
        ],
        [
         "average score",
         "0"
        ]
       ],
       "shape": {
        "columns": 1,
        "rows": 6
       }
      },
      "text/plain": [
       "gender                         0\n",
       "race/ethnicity                 0\n",
       "parental level of education    0\n",
       "lunch                          0\n",
       "test preparation course        0\n",
       "average score                  0\n",
       "dtype: int64"
      ]
     },
     "execution_count": 58,
     "metadata": {},
     "output_type": "execute_result"
    }
   ],
   "source": [
    "# All columns have been checked\n",
    "data_students.isnull().sum()"
   ]
  },
  {
   "cell_type": "markdown",
   "id": "5ba336ce",
   "metadata": {},
   "source": [
    "### Predictor division and class"
   ]
  },
  {
   "cell_type": "code",
   "execution_count": 104,
   "id": "a8561b3d",
   "metadata": {},
   "outputs": [],
   "source": [
    "#Separing predictors and ignoring math score, reading score and writing score columns\n",
    "X_students = data_students.iloc[:, 0:5].values"
   ]
  },
  {
   "cell_type": "code",
   "execution_count": 96,
   "id": "04763fc6",
   "metadata": {},
   "outputs": [
    {
     "data": {
      "text/plain": [
       "array([['female', 'group B', \"bachelor's degree\", 'standard', 'none'],\n",
       "       ['female', 'group C', 'some college', 'standard', 'completed'],\n",
       "       ['female', 'group B', \"master's degree\", 'standard', 'none'],\n",
       "       ...,\n",
       "       ['female', 'group C', 'high school', 'free/reduced', 'completed'],\n",
       "       ['female', 'group D', 'some college', 'standard', 'completed'],\n",
       "       ['female', 'group D', 'some college', 'free/reduced', 'none']],\n",
       "      dtype=object)"
      ]
     },
     "execution_count": 96,
     "metadata": {},
     "output_type": "execute_result"
    }
   ],
   "source": [
    "X_students"
   ]
  },
  {
   "cell_type": "code",
   "execution_count": 105,
   "id": "d35d4deb",
   "metadata": {},
   "outputs": [],
   "source": [
    "# Average score is the target class\n",
    "Y_students = data_students.iloc[:, 5].values"
   ]
  },
  {
   "cell_type": "code",
   "execution_count": 98,
   "id": "f68b1be7",
   "metadata": {},
   "outputs": [
    {
     "data": {
      "text/plain": [
       "array([ 72.66666667,  82.33333333,  92.66666667,  49.33333333,\n",
       "        76.33333333,  77.33333333,  91.66666667,  40.66666667,\n",
       "        65.        ,  49.33333333,  54.66666667,  45.        ,\n",
       "        73.        ,  73.33333333,  53.66666667,  74.        ,\n",
       "        87.66666667,  26.        ,  44.66666667,  57.66666667,\n",
       "        66.        ,  70.        ,  50.33333333,  71.66666667,\n",
       "        75.        ,  73.        ,  59.33333333,  70.33333333,\n",
       "        68.33333333,  69.        ,  72.33333333,  63.        ,\n",
       "        64.33333333,  40.        ,  88.66666667,  80.33333333,\n",
       "        79.33333333,  57.66666667,  84.33333333,  56.66666667,\n",
       "        56.66666667,  66.33333333,  58.66666667,  63.33333333,\n",
       "        53.33333333,  58.66666667,  60.66666667,  71.        ,\n",
       "        69.        ,  82.66666667,  52.        ,  71.33333333,\n",
       "        46.33333333,  80.33333333,  80.66666667,  39.        ,\n",
       "        84.33333333,  52.        ,  58.33333333,   9.        ,\n",
       "        75.        ,  37.33333333,  59.33333333,  73.33333333,\n",
       "        58.66666667,  64.        ,  39.66666667,  68.66666667,\n",
       "        58.33333333,  53.33333333,  64.66666667,  60.33333333,\n",
       "        46.66666667,  58.        ,  46.33333333,  41.        ,\n",
       "        26.        ,  79.66666667,  69.        ,  66.        ,\n",
       "        48.66666667,  46.33333333,  50.33333333,  66.33333333,\n",
       "        38.33333333,  78.33333333,  82.33333333,  72.        ,\n",
       "        65.        ,  80.33333333,  70.33333333,  32.33333333,\n",
       "        73.66666667,  46.        ,  85.66666667,  80.33333333,\n",
       "        64.33333333,  68.33333333,  62.33333333,  64.66666667,\n",
       "        71.        ,  72.        ,  88.33333333,  50.33333333,\n",
       "        91.33333333,  65.66666667,  95.66666667,  64.33333333,\n",
       "        66.        ,  68.66666667,  88.        ,  55.33333333,\n",
       "        51.33333333,  54.33333333,  99.66666667,  78.33333333,\n",
       "        80.66666667,  79.66666667,  58.33333333,  63.        ,\n",
       "        86.66666667,  90.66666667,  91.33333333,  58.66666667,\n",
       "        78.66666667,  89.33333333,  69.        ,  72.        ,\n",
       "        79.33333333,  50.33333333,  85.        ,  43.33333333,\n",
       "        77.        ,  80.        ,  76.        ,  53.66666667,\n",
       "        48.66666667,  60.33333333,  64.        ,  67.        ,\n",
       "        73.        ,  61.66666667,  50.33333333,  49.        ,\n",
       "        79.66666667,  31.33333333,  82.33333333,  69.        ,\n",
       "        74.66666667,  97.66666667,  66.        ,  70.66666667,\n",
       "        65.        ,  50.        ,  63.33333333,  82.33333333,\n",
       "        72.66666667,  60.        ,  78.        ,  64.        ,\n",
       "        78.        ,  82.66666667,  51.33333333,  51.33333333,\n",
       "        88.        ,  98.66666667,  51.66666667,  70.66666667,\n",
       "        76.33333333,  70.66666667,  73.        ,  86.66666667,\n",
       "        82.        ,  66.66666667,  49.33333333,  86.33333333,\n",
       "        52.66666667,  75.        ,  61.33333333,  99.        ,\n",
       "        68.33333333,  58.66666667,  49.        ,  68.        ,\n",
       "        48.66666667,  65.66666667,  73.66666667,  65.33333333,\n",
       "        48.33333333,  84.        ,  66.66666667,  79.33333333,\n",
       "        64.        ,  67.        ,  79.33333333,  56.        ,\n",
       "        64.33333333,  54.        ,  51.        ,  77.66666667,\n",
       "        79.        ,  74.33333333,  71.66666667,  64.66666667,\n",
       "        47.33333333,  74.33333333,  68.66666667,  79.        ,\n",
       "        77.        ,  61.66666667,  79.33333333,  30.        ,\n",
       "        54.66666667,  55.66666667,  86.33333333,  80.66666667,\n",
       "        85.66666667,  38.33333333,  71.        ,  57.66666667,\n",
       "        66.        ,  81.66666667,  60.66666667,  80.33333333,\n",
       "        63.66666667,  51.66666667,  71.66666667,  53.66666667,\n",
       "        68.        ,  92.33333333,  68.66666667,  43.66666667,\n",
       "        78.66666667,  85.66666667,  83.        ,  77.33333333,\n",
       "        65.33333333,  66.        ,  52.33333333,  81.33333333,\n",
       "        69.        ,  82.        ,  54.33333333,  51.        ,\n",
       "        72.66666667,  77.33333333,  79.66666667,  65.33333333,\n",
       "        63.66666667,  60.33333333,  48.33333333,  79.        ,\n",
       "        66.66666667,  77.33333333,  52.66666667,  68.33333333,\n",
       "        68.33333333,  77.33333333,  74.33333333,  75.66666667,\n",
       "        73.33333333,  78.66666667,  48.33333333,  94.        ,\n",
       "        72.33333333,  47.33333333,  73.        ,  72.66666667,\n",
       "        91.66666667,  72.33333333,  64.33333333,  49.66666667,\n",
       "        52.66666667,  68.66666667,  83.        ,  78.        ,\n",
       "        90.        ,  65.66666667,  77.        ,  62.        ,\n",
       "        49.        ,  46.33333333,  78.66666667,  75.33333333,\n",
       "        43.        ,  81.66666667,  89.        ,  79.33333333,\n",
       "        79.66666667,  76.66666667,  71.33333333,  76.33333333,\n",
       "        60.        ,  71.        ,  78.33333333,  63.        ,\n",
       "        43.33333333,  71.        ,  45.33333333,  84.        ,\n",
       "        80.        ,  54.        ,  77.33333333,  73.33333333,\n",
       "        77.33333333,  68.33333333,  89.        ,  49.        ,\n",
       "        63.66666667,  52.66666667,  76.33333333,  61.        ,\n",
       "        65.33333333,  68.        ,  66.        ,  67.33333333,\n",
       "        83.33333333,  77.66666667,  67.66666667,  61.33333333,\n",
       "        76.66666667,  80.        ,  77.33333333,  49.66666667,\n",
       "        43.33333333,  88.66666667,  61.33333333,  23.33333333,\n",
       "        78.        ,  49.        ,  64.        ,  39.66666667,\n",
       "        57.        ,  83.        ,  90.33333333,  65.        ,\n",
       "        71.66666667,  47.66666667,  29.66666667,  50.        ,\n",
       "        57.        ,  65.66666667,  73.        ,  68.66666667,\n",
       "        73.        ,  75.66666667,  60.        ,  88.66666667,\n",
       "        71.66666667,  79.        ,  62.        ,  58.33333333,\n",
       "        73.66666667,  53.66666667,  66.66666667,  67.66666667,\n",
       "        61.66666667,  59.        ,  60.66666667,  86.33333333,\n",
       "        59.66666667,  82.33333333,  56.        ,  31.        ,\n",
       "        59.        ,  55.66666667,  60.        ,  62.66666667,\n",
       "        55.33333333,  80.66666667,  77.33333333,  62.66666667,\n",
       "        73.33333333,  91.66666667,  67.33333333,  43.33333333,\n",
       "        84.        ,  93.33333333,  77.        ,  64.        ,\n",
       "        83.        ,  94.        ,  77.        ,  44.        ,\n",
       "        41.33333333,  72.66666667,  69.        ,  67.33333333,\n",
       "        63.33333333,  72.66666667,  66.33333333,  74.        ,\n",
       "        70.        ,  55.66666667,  72.        ,  44.66666667,\n",
       "        60.        ,  89.66666667,  64.66666667,  57.66666667,\n",
       "        60.        ,  46.33333333,  56.33333333,  95.66666667,\n",
       "        58.33333333,  68.        ,  64.33333333,  79.66666667,\n",
       "        55.        ,  85.33333333,  71.66666667,  81.66666667,\n",
       "        65.66666667,  65.66666667,  67.33333333,  75.33333333,\n",
       "        71.        ,  71.33333333,  63.        ,  55.66666667,\n",
       "        89.33333333,  59.66666667,  57.33333333,  74.66666667,\n",
       "        38.        ,  63.66666667,  85.        ,  68.33333333,\n",
       "        59.        ,  61.66666667,  63.        ,  67.66666667,\n",
       "        57.33333333,  52.        ,  68.33333333,  50.33333333,\n",
       "        69.        ,  71.33333333,  59.        ,  86.33333333,\n",
       "        75.66666667,  79.66666667,  67.        ,  77.33333333,\n",
       "        78.        ,  72.66666667,  65.        ,  82.33333333,\n",
       "        45.        ,  75.33333333,  78.        ,  96.33333333,\n",
       "        72.        ,  57.33333333,  58.66666667,  46.66666667,\n",
       "        85.66666667,  51.66666667, 100.        ,  68.33333333,\n",
       "        55.33333333,  51.        ,  72.33333333,  86.        ,\n",
       "        65.        ,  87.33333333,  31.66666667,  68.        ,\n",
       "        83.33333333,  80.33333333,  86.        ,  68.66666667,\n",
       "        79.33333333,  62.33333333,  90.33333333,  76.66666667,\n",
       "        68.        ,  73.33333333,  63.        ,  71.33333333,\n",
       "        70.66666667,  55.66666667,  65.66666667,  52.33333333,\n",
       "        51.66666667,  71.66666667,  54.66666667,  69.66666667,\n",
       "        58.        ,  81.        ,  75.33333333,  66.        ,\n",
       "        85.33333333,  86.33333333,  62.        ,  66.        ,\n",
       "        51.33333333,  71.        ,  67.66666667,  73.        ,\n",
       "        78.33333333,  91.        ,  59.33333333,  92.        ,\n",
       "        51.        ,  81.33333333,  68.        ,  56.        ,\n",
       "        78.        ,  88.33333333,  73.33333333,  52.33333333,\n",
       "        54.33333333,  59.        ,  89.33333333,  82.66666667,\n",
       "        82.33333333,  71.        ,  74.        ,  74.66666667,\n",
       "        57.33333333,  87.        ,  61.33333333,  54.33333333,\n",
       "        51.33333333,  62.33333333,  59.        ,  44.        ,\n",
       "        39.        ,  68.66666667,  69.33333333,  51.33333333,\n",
       "        60.33333333,  87.        ,  70.        ,  77.33333333,\n",
       "        56.33333333,  59.66666667,  74.        ,  91.66666667,\n",
       "        70.66666667,  80.33333333,  79.        ,  88.66666667,\n",
       "        64.33333333,  80.33333333,  96.33333333,  67.66666667,\n",
       "        64.33333333,  73.33333333,  73.33333333,  88.33333333,\n",
       "        46.        ,  67.66666667,  46.        ,  34.66666667,\n",
       "        68.66666667,  64.66666667,  64.33333333,  67.        ,\n",
       "        76.        ,  70.33333333,  92.66666667,  74.33333333,\n",
       "        48.33333333,  45.33333333,  97.33333333,  70.        ,\n",
       "        52.66666667,  67.66666667,  72.        ,  93.        ,\n",
       "        57.        ,  60.        ,  75.33333333,  49.33333333,\n",
       "        54.66666667,  87.        ,  54.        ,  60.66666667,\n",
       "        91.33333333,  78.66666667,  71.33333333,  76.        ,\n",
       "        74.33333333,  72.33333333,  67.        ,  56.33333333,\n",
       "        61.        ,  59.66666667,  56.33333333,  61.        ,\n",
       "        66.66666667,  74.33333333,  97.        ,  69.        ,\n",
       "        23.        ,  51.66666667,  73.        ,  76.        ,\n",
       "        59.        ,  29.33333333,  78.        ,  56.        ,\n",
       "        87.66666667,  69.66666667,  83.66666667,  50.66666667,\n",
       "        62.33333333,  62.        ,  64.        ,  61.        ,\n",
       "        91.66666667,  72.        ,  89.33333333,  66.66666667,\n",
       "        40.        ,  83.        ,  86.66666667,  68.66666667,\n",
       "        50.        ,  60.33333333,  53.66666667,  94.        ,\n",
       "        60.33333333,  98.66666667,  67.33333333,  51.66666667,\n",
       "        50.66666667,  50.        ,  67.        ,  68.        ,\n",
       "        73.66666667,  82.66666667,  82.66666667,  69.66666667,\n",
       "        76.        ,  86.66666667,  78.66666667,  74.33333333,\n",
       "        48.        ,  84.        ,  77.33333333,  77.66666667,\n",
       "        65.        ,  75.66666667,  64.66666667,  64.66666667,\n",
       "        52.66666667,  76.33333333,  53.33333333,  74.66666667,\n",
       "        89.66666667,  69.66666667,  77.        ,  65.33333333,\n",
       "        69.33333333,  65.33333333,  53.66666667,  87.33333333,\n",
       "        74.66666667,  67.33333333,  65.        ,  67.        ,\n",
       "        68.66666667,  56.66666667,  69.        ,  83.        ,\n",
       "        69.33333333,  76.66666667,  70.        ,  53.        ,\n",
       "        74.33333333,  77.66666667,  74.66666667,  60.        ,\n",
       "        75.66666667,  76.        ,  78.        ,  61.33333333,\n",
       "        71.        ,  62.66666667,  57.        ,  37.66666667,\n",
       "        65.33333333,  97.66666667,  76.        ,  76.        ,\n",
       "        51.66666667,  88.66666667,  51.66666667,  75.66666667,\n",
       "        73.66666667,  75.66666667,  56.        ,  84.66666667,\n",
       "        82.33333333,  67.        ,  71.33333333,  63.66666667,\n",
       "        80.66666667,  65.33333333,  86.        ,  64.66666667,\n",
       "        62.        ,  66.33333333,  38.66666667,  59.        ,\n",
       "        85.        ,  53.66666667,  89.        ,  83.33333333,\n",
       "        99.        ,  82.        ,  68.        ,  85.66666667,\n",
       "        74.33333333,  97.        ,  75.33333333,  81.33333333,\n",
       "        68.        ,  57.66666667,  84.        ,  46.66666667,\n",
       "        43.66666667,  75.33333333,  72.33333333,  58.66666667,\n",
       "        83.        ,  43.        ,  75.        ,  48.        ,\n",
       "        90.        ,  48.66666667,  56.        ,  61.        ,\n",
       "        85.        ,  64.        ,  75.        ,  58.66666667,\n",
       "        75.        ,  50.        ,  82.33333333,  68.        ,\n",
       "        52.33333333,  75.        ,  71.66666667,  67.        ,\n",
       "        56.33333333,  85.66666667,  69.33333333,  68.33333333,\n",
       "        77.        ,  84.        ,  55.33333333,  90.33333333,\n",
       "        55.        ,  70.        ,  58.66666667,  74.33333333,\n",
       "        63.        ,  53.33333333,  81.66666667,  62.33333333,\n",
       "        60.66666667,  72.66666667,  70.        ,  66.        ,\n",
       "        71.33333333,  58.33333333,  49.66666667,  74.        ,\n",
       "        63.66666667,  73.        ,  63.66666667,  54.        ,\n",
       "        69.33333333,  40.66666667,  77.66666667,  87.        ,\n",
       "        53.        ,  83.66666667,  81.        ,  57.66666667,\n",
       "        83.66666667,  42.33333333,  76.        ,  29.66666667,\n",
       "        64.66666667,  59.33333333,  56.66666667,  65.33333333,\n",
       "        69.66666667,  83.33333333,  48.33333333,  66.        ,\n",
       "        70.        ,  78.33333333,  61.        ,  54.66666667,\n",
       "        69.33333333,  76.33333333,  92.        ,  84.66666667,\n",
       "        75.66666667,  76.66666667,  71.        ,  42.        ,\n",
       "        78.        ,  54.66666667,  39.33333333,  47.        ,\n",
       "        61.66666667,  82.33333333,  78.33333333,  89.        ,\n",
       "        56.        ,  69.        ,  66.66666667,  85.33333333,\n",
       "        89.        ,  87.        ,  50.66666667,  80.        ,\n",
       "        52.66666667,  62.33333333,  64.66666667,  70.        ,\n",
       "        78.66666667,  58.33333333,  59.33333333,  83.        ,\n",
       "        60.66666667,  82.66666667,  51.        ,  66.        ,\n",
       "        64.66666667,  78.66666667,  56.        ,  72.        ,\n",
       "        45.66666667,  57.66666667,  34.33333333,  75.66666667,\n",
       "        56.33333333,  86.33333333,  87.        ,  56.        ,\n",
       "        66.33333333,  74.66666667,  68.33333333,  64.        ,\n",
       "        88.33333333,  70.        ,  60.33333333,  96.66666667,\n",
       "        69.33333333,  75.        ,  49.        ,  77.33333333,\n",
       "        56.        ,  84.66666667,  39.66666667,  74.        ,\n",
       "        93.66666667,  84.        ,  54.66666667,  48.        ,\n",
       "        74.66666667,  50.33333333,  54.66666667,  72.66666667,\n",
       "        81.33333333,  87.33333333,  55.33333333,  70.        ,\n",
       "        82.33333333,  57.33333333,  70.33333333,  71.33333333,\n",
       "        64.33333333,  70.33333333,  69.33333333,  48.33333333,\n",
       "        52.        ,  72.66666667,  96.        ,  61.66666667,\n",
       "        69.33333333,  47.66666667,  87.33333333,  87.33333333,\n",
       "        63.33333333,  79.        ,  63.33333333,  34.66666667,\n",
       "        30.66666667,  73.33333333,  61.33333333,  75.        ,\n",
       "        86.        ,  75.        ,  41.        ,  97.66666667,\n",
       "        78.33333333,  80.66666667,  52.        ,  84.66666667,\n",
       "        71.33333333,  68.        ,  46.66666667,  78.33333333,\n",
       "        59.66666667,  58.33333333,  54.        ,  68.        ,\n",
       "       100.        ,  52.33333333,  71.33333333,  92.66666667,\n",
       "        68.66666667,  44.66666667,  68.        ,  61.33333333,\n",
       "        71.        ,  66.        ,  57.33333333,  65.66666667,\n",
       "        44.33333333,  51.66666667,  70.33333333,  60.33333333,\n",
       "        68.33333333,  73.        ,  91.66666667,  63.66666667,\n",
       "        59.        ,  57.33333333,  83.66666667,  71.33333333,\n",
       "        70.        ,  88.33333333,  70.33333333,  61.33333333,\n",
       "        62.33333333,  57.66666667,  81.33333333,  55.66666667,\n",
       "        50.33333333,  68.33333333,  79.33333333,  78.33333333,\n",
       "        73.33333333,  54.66666667,  66.66666667,  63.66666667,\n",
       "        84.        ,  97.33333333,  55.66666667,  75.66666667,\n",
       "        59.33333333,  51.66666667, 100.        ,  72.        ,\n",
       "        62.33333333,  68.        ,  66.        ,  62.        ,\n",
       "        70.33333333,  79.66666667,  96.33333333,  73.        ,\n",
       "        54.33333333,  58.33333333,  61.33333333,  74.33333333,\n",
       "        60.66666667,  61.66666667,  48.        ,  93.33333333,\n",
       "        18.33333333,  79.        ,  83.33333333,  85.33333333,\n",
       "        77.        ,  54.        ,  50.        ,  77.33333333,\n",
       "        44.66666667,  78.66666667,  80.66666667,  75.        ,\n",
       "        69.        ,  69.33333333,  62.66666667,  94.        ,\n",
       "        57.33333333,  65.        ,  74.33333333,  83.        ])"
      ]
     },
     "execution_count": 98,
     "metadata": {},
     "output_type": "execute_result"
    }
   ],
   "source": [
    "Y_students"
   ]
  },
  {
   "cell_type": "markdown",
   "id": "105cae18",
   "metadata": {},
   "source": [
    "### Treatment of categorical attributes"
   ]
  },
  {
   "cell_type": "markdown",
   "id": "42757d03",
   "metadata": {},
   "source": [
    "#### Label Encoder"
   ]
  },
  {
   "cell_type": "code",
   "execution_count": 13,
   "id": "7726b8d4",
   "metadata": {},
   "outputs": [],
   "source": [
    "from sklearn.preprocessing import LabelEncoder\n",
    "\n",
    "label_encoder_gender = LabelEncoder()\n",
    "label_encoder_race = LabelEncoder()\n",
    "label_encoder_parental_level_education = LabelEncoder()\n",
    "label_encoder_lunch = LabelEncoder()\n",
    "label_encoder_test_preparation_course = LabelEncoder()"
   ]
  },
  {
   "cell_type": "code",
   "execution_count": 41,
   "id": "6ef7bb10",
   "metadata": {},
   "outputs": [],
   "source": [
    "X_students[:, 0] = label_encoder_gender.fit_transform(X_students[:, 0])\n",
    "X_students[:, 1] = label_encoder_race.fit_transform(X_students[:, 1])\n",
    "X_students[:, 2] = label_encoder_parental_level_education.fit_transform(X_students[:, 2])\n",
    "X_students[:, 3] = label_encoder_lunch.fit_transform(X_students[:, 3])\n",
    "X_students[:, 4] = label_encoder_test_preparation_course.fit_transform(X_students[:, 4])"
   ]
  },
  {
   "cell_type": "code",
   "execution_count": 14,
   "id": "a946140f",
   "metadata": {},
   "outputs": [
    {
     "data": {
      "text/plain": [
       "array([['female', 'group B', \"bachelor's degree\", 'standard', 'none'],\n",
       "       ['female', 'group C', 'some college', 'standard', 'completed'],\n",
       "       ['female', 'group B', \"master's degree\", 'standard', 'none'],\n",
       "       ...,\n",
       "       ['female', 'group C', 'high school', 'free/reduced', 'completed'],\n",
       "       ['female', 'group D', 'some college', 'standard', 'completed'],\n",
       "       ['female', 'group D', 'some college', 'free/reduced', 'none']],\n",
       "      dtype=object)"
      ]
     },
     "execution_count": 14,
     "metadata": {},
     "output_type": "execute_result"
    }
   ],
   "source": [
    "X_students"
   ]
  },
  {
   "cell_type": "markdown",
   "id": "91ae7702",
   "metadata": {},
   "source": [
    "#### OneHot Encoder (recommended / best results)"
   ]
  },
  {
   "cell_type": "code",
   "execution_count": 74,
   "id": "ab80a0d3",
   "metadata": {},
   "outputs": [],
   "source": [
    "from sklearn.preprocessing import OneHotEncoder\n",
    "from sklearn.compose import ColumnTransformer"
   ]
  },
  {
   "cell_type": "code",
   "execution_count": 106,
   "id": "76a270a7",
   "metadata": {},
   "outputs": [],
   "source": [
    "# Transforming categorical variables in dummy variables\n",
    "onehotencoder_students = ColumnTransformer(transformers = [('OneHot', OneHotEncoder(), [0, 1, 2, 3, 4])])\n",
    "X_students = onehotencoder_students.fit_transform(data_students.iloc[:, 0:5])\n",
    "\n",
    "\n"
   ]
  },
  {
   "cell_type": "code",
   "execution_count": null,
   "id": "2924a64a",
   "metadata": {},
   "outputs": [],
   "source": []
  },
  {
   "cell_type": "code",
   "execution_count": 108,
   "id": "ef332887",
   "metadata": {},
   "outputs": [
    {
     "data": {
      "text/plain": [
       "<1000x17 sparse matrix of type '<class 'numpy.float64'>'\n",
       "\twith 5000 stored elements in Compressed Sparse Row format>"
      ]
     },
     "execution_count": 108,
     "metadata": {},
     "output_type": "execute_result"
    }
   ],
   "source": [
    "X_students"
   ]
  },
  {
   "cell_type": "markdown",
   "id": "738d24e6",
   "metadata": {},
   "source": [
    "### Dividing the training and testing bases\n",
    "\n",
    "Separating 15% of the base for testing"
   ]
  },
  {
   "cell_type": "code",
   "execution_count": 79,
   "id": "d0e797da",
   "metadata": {},
   "outputs": [],
   "source": [
    "from sklearn.model_selection import train_test_split"
   ]
  },
  {
   "cell_type": "code",
   "execution_count": 80,
   "id": "ef0fde99",
   "metadata": {},
   "outputs": [],
   "source": [
    "X_students_train, X_students_test, Y_students_train, Y_students_test = train_test_split(X_students, Y_students, test_size = 0.15, random_state = 0)"
   ]
  },
  {
   "cell_type": "code",
   "execution_count": 81,
   "id": "85e10240",
   "metadata": {},
   "outputs": [
    {
     "data": {
      "text/plain": [
       "((850, 17), (850,))"
      ]
     },
     "execution_count": 81,
     "metadata": {},
     "output_type": "execute_result"
    }
   ],
   "source": [
    "X_students_train.shape, Y_students_train.shape"
   ]
  },
  {
   "cell_type": "code",
   "execution_count": 82,
   "id": "990ad377",
   "metadata": {},
   "outputs": [
    {
     "data": {
      "text/plain": [
       "((150, 17), (1000,))"
      ]
     },
     "execution_count": 82,
     "metadata": {},
     "output_type": "execute_result"
    }
   ],
   "source": [
    "X_students_test.shape, Y_students.shape"
   ]
  },
  {
   "cell_type": "markdown",
   "id": "a32e8a62",
   "metadata": {},
   "source": [
    "### Saving processed variables"
   ]
  },
  {
   "cell_type": "code",
   "execution_count": 83,
   "id": "1f9e53e6",
   "metadata": {},
   "outputs": [],
   "source": [
    "import pickle\n",
    "\n",
    "with open('students_performance.pkl', mode = 'wb') as f:\n",
    "    pickle.dump((X_students_train, Y_students_train, X_students_test, Y_students_test), f)"
   ]
  }
 ],
 "metadata": {
  "kernelspec": {
   "display_name": "base",
   "language": "python",
   "name": "python3"
  },
  "language_info": {
   "codemirror_mode": {
    "name": "ipython",
    "version": 3
   },
   "file_extension": ".py",
   "mimetype": "text/x-python",
   "name": "python",
   "nbconvert_exporter": "python",
   "pygments_lexer": "ipython3",
   "version": "3.12.7"
  }
 },
 "nbformat": 4,
 "nbformat_minor": 5
}
